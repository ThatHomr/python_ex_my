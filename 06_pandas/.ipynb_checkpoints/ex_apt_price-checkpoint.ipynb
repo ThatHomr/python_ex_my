{
 "cells": [
  {
   "cell_type": "code",
   "execution_count": 2,
   "metadata": {},
   "outputs": [],
   "source": [
    "import pandas as pd\n",
    "import numpy as np\n",
    "import warnings\n",
    "warnings.filterwarnings('ignore')"
   ]
  },
  {
   "cell_type": "code",
   "execution_count": 3,
   "metadata": {},
   "outputs": [
    {
     "data": {
      "text/plain": [
       "'c:\\\\Users\\\\admin\\\\06_pandas'"
      ]
     },
     "execution_count": 3,
     "metadata": {},
     "output_type": "execute_result"
    }
   ],
   "source": [
    "%pwd"
   ]
  },
  {
   "cell_type": "code",
   "execution_count": 36,
   "metadata": {},
   "outputs": [],
   "source": [
    "first_df = pd.read_csv('data\\전국_평균_분양가격(2013년_9월부터_2015년_8월까지).csv', encoding='cp949' )"
   ]
  },
  {
   "cell_type": "code",
   "execution_count": 37,
   "metadata": {},
   "outputs": [
    {
     "name": "stdout",
     "output_type": "stream",
     "text": [
      "<class 'pandas.core.frame.DataFrame'>\n",
      "RangeIndex: 17 entries, 0 to 16\n",
      "Data columns (total 22 columns):\n",
      " #   Column    Non-Null Count  Dtype \n",
      "---  ------    --------------  ----- \n",
      " 0   지역        17 non-null     object\n",
      " 1   2013년12월  17 non-null     int64 \n",
      " 2   2014년1월   17 non-null     int64 \n",
      " 3   2014년2월   17 non-null     int64 \n",
      " 4   2014년3월   17 non-null     int64 \n",
      " 5   2014년4월   17 non-null     int64 \n",
      " 6   2014년5월   17 non-null     int64 \n",
      " 7   2014년6월   17 non-null     int64 \n",
      " 8   2014년7월   17 non-null     int64 \n",
      " 9   2014년8월   17 non-null     int64 \n",
      " 10  2014년9월   17 non-null     int64 \n",
      " 11  2014년10월  17 non-null     int64 \n",
      " 12  2014년11월  17 non-null     int64 \n",
      " 13  2014년12월  17 non-null     int64 \n",
      " 14  2015년1월   17 non-null     int64 \n",
      " 15  2015년2월   17 non-null     int64 \n",
      " 16  2015년3월   17 non-null     int64 \n",
      " 17  2015년4월   17 non-null     int64 \n",
      " 18  2015년5월   17 non-null     int64 \n",
      " 19  2015년6월   17 non-null     int64 \n",
      " 20  2015년7월   17 non-null     int64 \n",
      " 21  2015년8월   17 non-null     int64 \n",
      "dtypes: int64(21), object(1)\n",
      "memory usage: 3.0+ KB\n"
     ]
    }
   ],
   "source": [
    "first_df.info()"
   ]
  },
  {
   "cell_type": "code",
   "execution_count": 38,
   "metadata": {},
   "outputs": [],
   "source": [
    "last_df = pd.read_csv('data\\주택도시보증공사_전국_평균_분양가격(2019년_12월).csv', encoding='cp949')"
   ]
  },
  {
   "cell_type": "code",
   "execution_count": 39,
   "metadata": {},
   "outputs": [
    {
     "name": "stdout",
     "output_type": "stream",
     "text": [
      "<class 'pandas.core.frame.DataFrame'>\n",
      "RangeIndex: 4335 entries, 0 to 4334\n",
      "Data columns (total 5 columns):\n",
      " #   Column   Non-Null Count  Dtype \n",
      "---  ------   --------------  ----- \n",
      " 0   지역명      4335 non-null   object\n",
      " 1   규모구분     4335 non-null   object\n",
      " 2   연도       4335 non-null   int64 \n",
      " 3   월        4335 non-null   int64 \n",
      " 4   분양가격(㎡)  4058 non-null   object\n",
      "dtypes: int64(2), object(3)\n",
      "memory usage: 169.5+ KB\n"
     ]
    }
   ],
   "source": [
    "last_df.info()"
   ]
  },
  {
   "cell_type": "code",
   "execution_count": 18,
   "metadata": {},
   "outputs": [
    {
     "data": {
      "text/html": [
       "<div>\n",
       "<style scoped>\n",
       "    .dataframe tbody tr th:only-of-type {\n",
       "        vertical-align: middle;\n",
       "    }\n",
       "\n",
       "    .dataframe tbody tr th {\n",
       "        vertical-align: top;\n",
       "    }\n",
       "\n",
       "    .dataframe thead th {\n",
       "        text-align: right;\n",
       "    }\n",
       "</style>\n",
       "<table border=\"1\" class=\"dataframe\">\n",
       "  <thead>\n",
       "    <tr style=\"text-align: right;\">\n",
       "      <th></th>\n",
       "      <th>지역명</th>\n",
       "      <th>규모구분</th>\n",
       "      <th>연도</th>\n",
       "      <th>월</th>\n",
       "      <th>분양가격(㎡)</th>\n",
       "    </tr>\n",
       "  </thead>\n",
       "  <tbody>\n",
       "    <tr>\n",
       "      <th>0</th>\n",
       "      <td>서울</td>\n",
       "      <td>전체</td>\n",
       "      <td>2015</td>\n",
       "      <td>10</td>\n",
       "      <td>5841</td>\n",
       "    </tr>\n",
       "    <tr>\n",
       "      <th>1</th>\n",
       "      <td>서울</td>\n",
       "      <td>전용면적 60㎡이하</td>\n",
       "      <td>2015</td>\n",
       "      <td>10</td>\n",
       "      <td>5652</td>\n",
       "    </tr>\n",
       "  </tbody>\n",
       "</table>\n",
       "</div>"
      ],
      "text/plain": [
       "  지역명        규모구분    연도   월 분양가격(㎡)\n",
       "0  서울          전체  2015  10    5841\n",
       "1  서울  전용면적 60㎡이하  2015  10    5652"
      ]
     },
     "execution_count": 18,
     "metadata": {},
     "output_type": "execute_result"
    }
   ],
   "source": [
    "last_df.head(2)"
   ]
  },
  {
   "cell_type": "code",
   "execution_count": 19,
   "metadata": {},
   "outputs": [
    {
     "data": {
      "text/html": [
       "<div>\n",
       "<style scoped>\n",
       "    .dataframe tbody tr th:only-of-type {\n",
       "        vertical-align: middle;\n",
       "    }\n",
       "\n",
       "    .dataframe tbody tr th {\n",
       "        vertical-align: top;\n",
       "    }\n",
       "\n",
       "    .dataframe thead th {\n",
       "        text-align: right;\n",
       "    }\n",
       "</style>\n",
       "<table border=\"1\" class=\"dataframe\">\n",
       "  <thead>\n",
       "    <tr style=\"text-align: right;\">\n",
       "      <th></th>\n",
       "      <th>지역명</th>\n",
       "      <th>규모구분</th>\n",
       "      <th>연도</th>\n",
       "      <th>월</th>\n",
       "      <th>분양가격(㎡)</th>\n",
       "    </tr>\n",
       "  </thead>\n",
       "  <tbody>\n",
       "    <tr>\n",
       "      <th>4333</th>\n",
       "      <td>제주</td>\n",
       "      <td>전용면적 85㎡초과 102㎡이하</td>\n",
       "      <td>2019</td>\n",
       "      <td>12</td>\n",
       "      <td>NaN</td>\n",
       "    </tr>\n",
       "    <tr>\n",
       "      <th>4334</th>\n",
       "      <td>제주</td>\n",
       "      <td>전용면적 102㎡초과</td>\n",
       "      <td>2019</td>\n",
       "      <td>12</td>\n",
       "      <td>3601</td>\n",
       "    </tr>\n",
       "  </tbody>\n",
       "</table>\n",
       "</div>"
      ],
      "text/plain": [
       "     지역명               규모구분    연도   월 분양가격(㎡)\n",
       "4333  제주  전용면적 85㎡초과 102㎡이하  2019  12     NaN\n",
       "4334  제주        전용면적 102㎡초과  2019  12    3601"
      ]
     },
     "execution_count": 19,
     "metadata": {},
     "output_type": "execute_result"
    }
   ],
   "source": [
    "last_df.tail(2)"
   ]
  },
  {
   "cell_type": "code",
   "execution_count": 40,
   "metadata": {},
   "outputs": [
    {
     "data": {
      "text/plain": [
       "지역명          0\n",
       "규모구분         0\n",
       "연도           0\n",
       "월            0\n",
       "분양가격(㎡)    277\n",
       "dtype: int64"
      ]
     },
     "execution_count": 40,
     "metadata": {},
     "output_type": "execute_result"
    }
   ],
   "source": [
    "last_df.isnull().sum()"
   ]
  },
  {
   "cell_type": "code",
   "execution_count": 21,
   "metadata": {},
   "outputs": [
    {
     "data": {
      "text/plain": [
       "True"
      ]
     },
     "execution_count": 21,
     "metadata": {},
     "output_type": "execute_result"
    }
   ],
   "source": [
    "True == 1"
   ]
  },
  {
   "cell_type": "code",
   "execution_count": 22,
   "metadata": {},
   "outputs": [
    {
     "data": {
      "text/plain": [
       "True"
      ]
     },
     "execution_count": 22,
     "metadata": {},
     "output_type": "execute_result"
    }
   ],
   "source": [
    "False == 0"
   ]
  },
  {
   "cell_type": "code",
   "execution_count": 23,
   "metadata": {},
   "outputs": [
    {
     "data": {
      "text/plain": [
       "2"
      ]
     },
     "execution_count": 23,
     "metadata": {},
     "output_type": "execute_result"
    }
   ],
   "source": [
    "True + True + False"
   ]
  },
  {
   "cell_type": "code",
   "execution_count": 41,
   "metadata": {},
   "outputs": [
    {
     "data": {
      "text/plain": [
       "지역          0\n",
       "2013년12월    0\n",
       "2014년1월     0\n",
       "2014년2월     0\n",
       "2014년3월     0\n",
       "2014년4월     0\n",
       "2014년5월     0\n",
       "2014년6월     0\n",
       "2014년7월     0\n",
       "2014년8월     0\n",
       "2014년9월     0\n",
       "2014년10월    0\n",
       "2014년11월    0\n",
       "2014년12월    0\n",
       "2015년1월     0\n",
       "2015년2월     0\n",
       "2015년3월     0\n",
       "2015년4월     0\n",
       "2015년5월     0\n",
       "2015년6월     0\n",
       "2015년7월     0\n",
       "2015년8월     0\n",
       "dtype: int64"
      ]
     },
     "execution_count": 41,
     "metadata": {},
     "output_type": "execute_result"
    }
   ],
   "source": [
    "first_df.isnull().sum()"
   ]
  },
  {
   "cell_type": "code",
   "execution_count": 42,
   "metadata": {},
   "outputs": [
    {
     "name": "stdout",
     "output_type": "stream",
     "text": [
      "<class 'pandas.core.frame.DataFrame'>\n",
      "RangeIndex: 4335 entries, 0 to 4334\n",
      "Data columns (total 5 columns):\n",
      " #   Column   Non-Null Count  Dtype \n",
      "---  ------   --------------  ----- \n",
      " 0   지역명      4335 non-null   object\n",
      " 1   규모구분     4335 non-null   object\n",
      " 2   연도       4335 non-null   int64 \n",
      " 3   월        4335 non-null   int64 \n",
      " 4   분양가격(㎡)  4058 non-null   object\n",
      "dtypes: int64(2), object(3)\n",
      "memory usage: 169.5+ KB\n"
     ]
    }
   ],
   "source": [
    "last_df.info()"
   ]
  },
  {
   "cell_type": "code",
   "execution_count": 43,
   "metadata": {},
   "outputs": [
    {
     "ename": "TypeError",
     "evalue": "can only concatenate str (not \"int\") to str",
     "output_type": "error",
     "traceback": [
      "\u001b[1;31m---------------------------------------------------------------------------\u001b[0m",
      "\u001b[1;31mTypeError\u001b[0m                                 Traceback (most recent call last)",
      "\u001b[1;32m~\\AppData\\Local\\Temp\\ipykernel_17016\\3150007755.py\u001b[0m in \u001b[0;36m<module>\u001b[1;34m\u001b[0m\n\u001b[1;32m----> 1\u001b[1;33m \u001b[0mlast_df\u001b[0m\u001b[1;33m[\u001b[0m\u001b[1;34m'분양가격(㎡)'\u001b[0m\u001b[1;33m]\u001b[0m\u001b[1;33m.\u001b[0m\u001b[0msum\u001b[0m\u001b[1;33m(\u001b[0m\u001b[1;33m)\u001b[0m\u001b[1;33m\u001b[0m\u001b[1;33m\u001b[0m\u001b[0m\n\u001b[0m",
      "\u001b[1;32mc:\\Users\\admin\\anaconda3\\lib\\site-packages\\pandas\\core\\generic.py\u001b[0m in \u001b[0;36msum\u001b[1;34m(self, axis, skipna, level, numeric_only, min_count, **kwargs)\u001b[0m\n\u001b[0;32m  11072\u001b[0m             \u001b[1;33m**\u001b[0m\u001b[0mkwargs\u001b[0m\u001b[1;33m,\u001b[0m\u001b[1;33m\u001b[0m\u001b[1;33m\u001b[0m\u001b[0m\n\u001b[0;32m  11073\u001b[0m         ):\n\u001b[1;32m> 11074\u001b[1;33m             return NDFrame.sum(\n\u001b[0m\u001b[0;32m  11075\u001b[0m                 \u001b[0mself\u001b[0m\u001b[1;33m,\u001b[0m \u001b[0maxis\u001b[0m\u001b[1;33m,\u001b[0m \u001b[0mskipna\u001b[0m\u001b[1;33m,\u001b[0m \u001b[0mlevel\u001b[0m\u001b[1;33m,\u001b[0m \u001b[0mnumeric_only\u001b[0m\u001b[1;33m,\u001b[0m \u001b[0mmin_count\u001b[0m\u001b[1;33m,\u001b[0m \u001b[1;33m**\u001b[0m\u001b[0mkwargs\u001b[0m\u001b[1;33m\u001b[0m\u001b[1;33m\u001b[0m\u001b[0m\n\u001b[0;32m  11076\u001b[0m             )\n",
      "\u001b[1;32mc:\\Users\\admin\\anaconda3\\lib\\site-packages\\pandas\\core\\generic.py\u001b[0m in \u001b[0;36msum\u001b[1;34m(self, axis, skipna, level, numeric_only, min_count, **kwargs)\u001b[0m\n\u001b[0;32m  10792\u001b[0m         \u001b[1;33m**\u001b[0m\u001b[0mkwargs\u001b[0m\u001b[1;33m,\u001b[0m\u001b[1;33m\u001b[0m\u001b[1;33m\u001b[0m\u001b[0m\n\u001b[0;32m  10793\u001b[0m     ):\n\u001b[1;32m> 10794\u001b[1;33m         return self._min_count_stat_function(\n\u001b[0m\u001b[0;32m  10795\u001b[0m             \u001b[1;34m\"sum\"\u001b[0m\u001b[1;33m,\u001b[0m \u001b[0mnanops\u001b[0m\u001b[1;33m.\u001b[0m\u001b[0mnansum\u001b[0m\u001b[1;33m,\u001b[0m \u001b[0maxis\u001b[0m\u001b[1;33m,\u001b[0m \u001b[0mskipna\u001b[0m\u001b[1;33m,\u001b[0m \u001b[0mlevel\u001b[0m\u001b[1;33m,\u001b[0m \u001b[0mnumeric_only\u001b[0m\u001b[1;33m,\u001b[0m \u001b[0mmin_count\u001b[0m\u001b[1;33m,\u001b[0m \u001b[1;33m**\u001b[0m\u001b[0mkwargs\u001b[0m\u001b[1;33m\u001b[0m\u001b[1;33m\u001b[0m\u001b[0m\n\u001b[0;32m  10796\u001b[0m         )\n",
      "\u001b[1;32mc:\\Users\\admin\\anaconda3\\lib\\site-packages\\pandas\\core\\generic.py\u001b[0m in \u001b[0;36m_min_count_stat_function\u001b[1;34m(self, name, func, axis, skipna, level, numeric_only, min_count, **kwargs)\u001b[0m\n\u001b[0;32m  10774\u001b[0m             )\n\u001b[0;32m  10775\u001b[0m \u001b[1;33m\u001b[0m\u001b[0m\n\u001b[1;32m> 10776\u001b[1;33m         return self._reduce(\n\u001b[0m\u001b[0;32m  10777\u001b[0m             \u001b[0mfunc\u001b[0m\u001b[1;33m,\u001b[0m\u001b[1;33m\u001b[0m\u001b[1;33m\u001b[0m\u001b[0m\n\u001b[0;32m  10778\u001b[0m             \u001b[0mname\u001b[0m\u001b[1;33m=\u001b[0m\u001b[0mname\u001b[0m\u001b[1;33m,\u001b[0m\u001b[1;33m\u001b[0m\u001b[1;33m\u001b[0m\u001b[0m\n",
      "\u001b[1;32mc:\\Users\\admin\\anaconda3\\lib\\site-packages\\pandas\\core\\series.py\u001b[0m in \u001b[0;36m_reduce\u001b[1;34m(self, op, name, axis, skipna, numeric_only, filter_type, **kwds)\u001b[0m\n\u001b[0;32m   4469\u001b[0m                 )\n\u001b[0;32m   4470\u001b[0m             \u001b[1;32mwith\u001b[0m \u001b[0mnp\u001b[0m\u001b[1;33m.\u001b[0m\u001b[0merrstate\u001b[0m\u001b[1;33m(\u001b[0m\u001b[0mall\u001b[0m\u001b[1;33m=\u001b[0m\u001b[1;34m\"ignore\"\u001b[0m\u001b[1;33m)\u001b[0m\u001b[1;33m:\u001b[0m\u001b[1;33m\u001b[0m\u001b[1;33m\u001b[0m\u001b[0m\n\u001b[1;32m-> 4471\u001b[1;33m                 \u001b[1;32mreturn\u001b[0m \u001b[0mop\u001b[0m\u001b[1;33m(\u001b[0m\u001b[0mdelegate\u001b[0m\u001b[1;33m,\u001b[0m \u001b[0mskipna\u001b[0m\u001b[1;33m=\u001b[0m\u001b[0mskipna\u001b[0m\u001b[1;33m,\u001b[0m \u001b[1;33m**\u001b[0m\u001b[0mkwds\u001b[0m\u001b[1;33m)\u001b[0m\u001b[1;33m\u001b[0m\u001b[1;33m\u001b[0m\u001b[0m\n\u001b[0m\u001b[0;32m   4472\u001b[0m \u001b[1;33m\u001b[0m\u001b[0m\n\u001b[0;32m   4473\u001b[0m     def _reindex_indexer(\n",
      "\u001b[1;32mc:\\Users\\admin\\anaconda3\\lib\\site-packages\\pandas\\core\\nanops.py\u001b[0m in \u001b[0;36m_f\u001b[1;34m(*args, **kwargs)\u001b[0m\n\u001b[0;32m     91\u001b[0m             \u001b[1;32mtry\u001b[0m\u001b[1;33m:\u001b[0m\u001b[1;33m\u001b[0m\u001b[1;33m\u001b[0m\u001b[0m\n\u001b[0;32m     92\u001b[0m                 \u001b[1;32mwith\u001b[0m \u001b[0mnp\u001b[0m\u001b[1;33m.\u001b[0m\u001b[0merrstate\u001b[0m\u001b[1;33m(\u001b[0m\u001b[0minvalid\u001b[0m\u001b[1;33m=\u001b[0m\u001b[1;34m\"ignore\"\u001b[0m\u001b[1;33m)\u001b[0m\u001b[1;33m:\u001b[0m\u001b[1;33m\u001b[0m\u001b[1;33m\u001b[0m\u001b[0m\n\u001b[1;32m---> 93\u001b[1;33m                     \u001b[1;32mreturn\u001b[0m \u001b[0mf\u001b[0m\u001b[1;33m(\u001b[0m\u001b[1;33m*\u001b[0m\u001b[0margs\u001b[0m\u001b[1;33m,\u001b[0m \u001b[1;33m**\u001b[0m\u001b[0mkwargs\u001b[0m\u001b[1;33m)\u001b[0m\u001b[1;33m\u001b[0m\u001b[1;33m\u001b[0m\u001b[0m\n\u001b[0m\u001b[0;32m     94\u001b[0m             \u001b[1;32mexcept\u001b[0m \u001b[0mValueError\u001b[0m \u001b[1;32mas\u001b[0m \u001b[0me\u001b[0m\u001b[1;33m:\u001b[0m\u001b[1;33m\u001b[0m\u001b[1;33m\u001b[0m\u001b[0m\n\u001b[0;32m     95\u001b[0m                 \u001b[1;31m# we want to transform an object array\u001b[0m\u001b[1;33m\u001b[0m\u001b[1;33m\u001b[0m\u001b[0m\n",
      "\u001b[1;32mc:\\Users\\admin\\anaconda3\\lib\\site-packages\\pandas\\core\\nanops.py\u001b[0m in \u001b[0;36mnew_func\u001b[1;34m(values, axis, skipna, mask, **kwargs)\u001b[0m\n\u001b[0;32m    408\u001b[0m             \u001b[0mmask\u001b[0m \u001b[1;33m=\u001b[0m \u001b[0misna\u001b[0m\u001b[1;33m(\u001b[0m\u001b[0mvalues\u001b[0m\u001b[1;33m)\u001b[0m\u001b[1;33m\u001b[0m\u001b[1;33m\u001b[0m\u001b[0m\n\u001b[0;32m    409\u001b[0m \u001b[1;33m\u001b[0m\u001b[0m\n\u001b[1;32m--> 410\u001b[1;33m         \u001b[0mresult\u001b[0m \u001b[1;33m=\u001b[0m \u001b[0mfunc\u001b[0m\u001b[1;33m(\u001b[0m\u001b[0mvalues\u001b[0m\u001b[1;33m,\u001b[0m \u001b[0maxis\u001b[0m\u001b[1;33m=\u001b[0m\u001b[0maxis\u001b[0m\u001b[1;33m,\u001b[0m \u001b[0mskipna\u001b[0m\u001b[1;33m=\u001b[0m\u001b[0mskipna\u001b[0m\u001b[1;33m,\u001b[0m \u001b[0mmask\u001b[0m\u001b[1;33m=\u001b[0m\u001b[0mmask\u001b[0m\u001b[1;33m,\u001b[0m \u001b[1;33m**\u001b[0m\u001b[0mkwargs\u001b[0m\u001b[1;33m)\u001b[0m\u001b[1;33m\u001b[0m\u001b[1;33m\u001b[0m\u001b[0m\n\u001b[0m\u001b[0;32m    411\u001b[0m \u001b[1;33m\u001b[0m\u001b[0m\n\u001b[0;32m    412\u001b[0m         \u001b[1;32mif\u001b[0m \u001b[0mdatetimelike\u001b[0m\u001b[1;33m:\u001b[0m\u001b[1;33m\u001b[0m\u001b[1;33m\u001b[0m\u001b[0m\n",
      "\u001b[1;32mc:\\Users\\admin\\anaconda3\\lib\\site-packages\\pandas\\core\\nanops.py\u001b[0m in \u001b[0;36mnewfunc\u001b[1;34m(values, axis, **kwargs)\u001b[0m\n\u001b[0;32m    481\u001b[0m             \u001b[1;32mreturn\u001b[0m \u001b[0mnp\u001b[0m\u001b[1;33m.\u001b[0m\u001b[0marray\u001b[0m\u001b[1;33m(\u001b[0m\u001b[0mresults\u001b[0m\u001b[1;33m)\u001b[0m\u001b[1;33m\u001b[0m\u001b[1;33m\u001b[0m\u001b[0m\n\u001b[0;32m    482\u001b[0m \u001b[1;33m\u001b[0m\u001b[0m\n\u001b[1;32m--> 483\u001b[1;33m         \u001b[1;32mreturn\u001b[0m \u001b[0mfunc\u001b[0m\u001b[1;33m(\u001b[0m\u001b[0mvalues\u001b[0m\u001b[1;33m,\u001b[0m \u001b[0maxis\u001b[0m\u001b[1;33m=\u001b[0m\u001b[0maxis\u001b[0m\u001b[1;33m,\u001b[0m \u001b[1;33m**\u001b[0m\u001b[0mkwargs\u001b[0m\u001b[1;33m)\u001b[0m\u001b[1;33m\u001b[0m\u001b[1;33m\u001b[0m\u001b[0m\n\u001b[0m\u001b[0;32m    484\u001b[0m \u001b[1;33m\u001b[0m\u001b[0m\n\u001b[0;32m    485\u001b[0m     \u001b[1;32mreturn\u001b[0m \u001b[0mcast\u001b[0m\u001b[1;33m(\u001b[0m\u001b[0mF\u001b[0m\u001b[1;33m,\u001b[0m \u001b[0mnewfunc\u001b[0m\u001b[1;33m)\u001b[0m\u001b[1;33m\u001b[0m\u001b[1;33m\u001b[0m\u001b[0m\n",
      "\u001b[1;32mc:\\Users\\admin\\anaconda3\\lib\\site-packages\\pandas\\core\\nanops.py\u001b[0m in \u001b[0;36mnansum\u001b[1;34m(values, axis, skipna, min_count, mask)\u001b[0m\n\u001b[0;32m    621\u001b[0m         \u001b[0mdtype_sum\u001b[0m \u001b[1;33m=\u001b[0m \u001b[0mnp\u001b[0m\u001b[1;33m.\u001b[0m\u001b[0mdtype\u001b[0m\u001b[1;33m(\u001b[0m\u001b[0mnp\u001b[0m\u001b[1;33m.\u001b[0m\u001b[0mfloat64\u001b[0m\u001b[1;33m)\u001b[0m\u001b[1;33m\u001b[0m\u001b[1;33m\u001b[0m\u001b[0m\n\u001b[0;32m    622\u001b[0m \u001b[1;33m\u001b[0m\u001b[0m\n\u001b[1;32m--> 623\u001b[1;33m     \u001b[0mthe_sum\u001b[0m \u001b[1;33m=\u001b[0m \u001b[0mvalues\u001b[0m\u001b[1;33m.\u001b[0m\u001b[0msum\u001b[0m\u001b[1;33m(\u001b[0m\u001b[0maxis\u001b[0m\u001b[1;33m,\u001b[0m \u001b[0mdtype\u001b[0m\u001b[1;33m=\u001b[0m\u001b[0mdtype_sum\u001b[0m\u001b[1;33m)\u001b[0m\u001b[1;33m\u001b[0m\u001b[1;33m\u001b[0m\u001b[0m\n\u001b[0m\u001b[0;32m    624\u001b[0m     \u001b[0mthe_sum\u001b[0m \u001b[1;33m=\u001b[0m \u001b[0m_maybe_null_out\u001b[0m\u001b[1;33m(\u001b[0m\u001b[0mthe_sum\u001b[0m\u001b[1;33m,\u001b[0m \u001b[0maxis\u001b[0m\u001b[1;33m,\u001b[0m \u001b[0mmask\u001b[0m\u001b[1;33m,\u001b[0m \u001b[0mvalues\u001b[0m\u001b[1;33m.\u001b[0m\u001b[0mshape\u001b[0m\u001b[1;33m,\u001b[0m \u001b[0mmin_count\u001b[0m\u001b[1;33m=\u001b[0m\u001b[0mmin_count\u001b[0m\u001b[1;33m)\u001b[0m\u001b[1;33m\u001b[0m\u001b[1;33m\u001b[0m\u001b[0m\n\u001b[0;32m    625\u001b[0m \u001b[1;33m\u001b[0m\u001b[0m\n",
      "\u001b[1;32mc:\\Users\\admin\\anaconda3\\lib\\site-packages\\numpy\\core\\_methods.py\u001b[0m in \u001b[0;36m_sum\u001b[1;34m(a, axis, dtype, out, keepdims, initial, where)\u001b[0m\n\u001b[0;32m     46\u001b[0m def _sum(a, axis=None, dtype=None, out=None, keepdims=False,\n\u001b[0;32m     47\u001b[0m          initial=_NoValue, where=True):\n\u001b[1;32m---> 48\u001b[1;33m     \u001b[1;32mreturn\u001b[0m \u001b[0mumr_sum\u001b[0m\u001b[1;33m(\u001b[0m\u001b[0ma\u001b[0m\u001b[1;33m,\u001b[0m \u001b[0maxis\u001b[0m\u001b[1;33m,\u001b[0m \u001b[0mdtype\u001b[0m\u001b[1;33m,\u001b[0m \u001b[0mout\u001b[0m\u001b[1;33m,\u001b[0m \u001b[0mkeepdims\u001b[0m\u001b[1;33m,\u001b[0m \u001b[0minitial\u001b[0m\u001b[1;33m,\u001b[0m \u001b[0mwhere\u001b[0m\u001b[1;33m)\u001b[0m\u001b[1;33m\u001b[0m\u001b[1;33m\u001b[0m\u001b[0m\n\u001b[0m\u001b[0;32m     49\u001b[0m \u001b[1;33m\u001b[0m\u001b[0m\n\u001b[0;32m     50\u001b[0m def _prod(a, axis=None, dtype=None, out=None, keepdims=False,\n",
      "\u001b[1;31mTypeError\u001b[0m: can only concatenate str (not \"int\") to str"
     ]
    }
   ],
   "source": [
    "last_df['분양가격(㎡)'].sum()"
   ]
  },
  {
   "cell_type": "code",
   "execution_count": 44,
   "metadata": {},
   "outputs": [
    {
     "ename": "ValueError",
     "evalue": "invalid literal for int() with base 10: '  '",
     "output_type": "error",
     "traceback": [
      "\u001b[1;31m---------------------------------------------------------------------------\u001b[0m",
      "\u001b[1;31mValueError\u001b[0m                                Traceback (most recent call last)",
      "\u001b[1;32m~\\AppData\\Local\\Temp\\ipykernel_17016\\248719122.py\u001b[0m in \u001b[0;36m<module>\u001b[1;34m\u001b[0m\n\u001b[1;32m----> 1\u001b[1;33m \u001b[0mlast_df\u001b[0m\u001b[1;33m[\u001b[0m\u001b[1;34m'분양가격(㎡)'\u001b[0m\u001b[1;33m]\u001b[0m\u001b[1;33m.\u001b[0m\u001b[0mastype\u001b[0m\u001b[1;33m(\u001b[0m\u001b[0mint\u001b[0m\u001b[1;33m)\u001b[0m\u001b[1;33m\u001b[0m\u001b[1;33m\u001b[0m\u001b[0m\n\u001b[0m",
      "\u001b[1;32mc:\\Users\\admin\\anaconda3\\lib\\site-packages\\pandas\\core\\generic.py\u001b[0m in \u001b[0;36mastype\u001b[1;34m(self, dtype, copy, errors)\u001b[0m\n\u001b[0;32m   5910\u001b[0m         \u001b[1;32melse\u001b[0m\u001b[1;33m:\u001b[0m\u001b[1;33m\u001b[0m\u001b[1;33m\u001b[0m\u001b[0m\n\u001b[0;32m   5911\u001b[0m             \u001b[1;31m# else, only a single dtype is given\u001b[0m\u001b[1;33m\u001b[0m\u001b[1;33m\u001b[0m\u001b[0m\n\u001b[1;32m-> 5912\u001b[1;33m             \u001b[0mnew_data\u001b[0m \u001b[1;33m=\u001b[0m \u001b[0mself\u001b[0m\u001b[1;33m.\u001b[0m\u001b[0m_mgr\u001b[0m\u001b[1;33m.\u001b[0m\u001b[0mastype\u001b[0m\u001b[1;33m(\u001b[0m\u001b[0mdtype\u001b[0m\u001b[1;33m=\u001b[0m\u001b[0mdtype\u001b[0m\u001b[1;33m,\u001b[0m \u001b[0mcopy\u001b[0m\u001b[1;33m=\u001b[0m\u001b[0mcopy\u001b[0m\u001b[1;33m,\u001b[0m \u001b[0merrors\u001b[0m\u001b[1;33m=\u001b[0m\u001b[0merrors\u001b[0m\u001b[1;33m)\u001b[0m\u001b[1;33m\u001b[0m\u001b[1;33m\u001b[0m\u001b[0m\n\u001b[0m\u001b[0;32m   5913\u001b[0m             \u001b[1;32mreturn\u001b[0m \u001b[0mself\u001b[0m\u001b[1;33m.\u001b[0m\u001b[0m_constructor\u001b[0m\u001b[1;33m(\u001b[0m\u001b[0mnew_data\u001b[0m\u001b[1;33m)\u001b[0m\u001b[1;33m.\u001b[0m\u001b[0m__finalize__\u001b[0m\u001b[1;33m(\u001b[0m\u001b[0mself\u001b[0m\u001b[1;33m,\u001b[0m \u001b[0mmethod\u001b[0m\u001b[1;33m=\u001b[0m\u001b[1;34m\"astype\"\u001b[0m\u001b[1;33m)\u001b[0m\u001b[1;33m\u001b[0m\u001b[1;33m\u001b[0m\u001b[0m\n\u001b[0;32m   5914\u001b[0m \u001b[1;33m\u001b[0m\u001b[0m\n",
      "\u001b[1;32mc:\\Users\\admin\\anaconda3\\lib\\site-packages\\pandas\\core\\internals\\managers.py\u001b[0m in \u001b[0;36mastype\u001b[1;34m(self, dtype, copy, errors)\u001b[0m\n\u001b[0;32m    417\u001b[0m \u001b[1;33m\u001b[0m\u001b[0m\n\u001b[0;32m    418\u001b[0m     \u001b[1;32mdef\u001b[0m \u001b[0mastype\u001b[0m\u001b[1;33m(\u001b[0m\u001b[0mself\u001b[0m\u001b[1;33m:\u001b[0m \u001b[0mT\u001b[0m\u001b[1;33m,\u001b[0m \u001b[0mdtype\u001b[0m\u001b[1;33m,\u001b[0m \u001b[0mcopy\u001b[0m\u001b[1;33m:\u001b[0m \u001b[0mbool\u001b[0m \u001b[1;33m=\u001b[0m \u001b[1;32mFalse\u001b[0m\u001b[1;33m,\u001b[0m \u001b[0merrors\u001b[0m\u001b[1;33m:\u001b[0m \u001b[0mstr\u001b[0m \u001b[1;33m=\u001b[0m \u001b[1;34m\"raise\"\u001b[0m\u001b[1;33m)\u001b[0m \u001b[1;33m->\u001b[0m \u001b[0mT\u001b[0m\u001b[1;33m:\u001b[0m\u001b[1;33m\u001b[0m\u001b[1;33m\u001b[0m\u001b[0m\n\u001b[1;32m--> 419\u001b[1;33m         \u001b[1;32mreturn\u001b[0m \u001b[0mself\u001b[0m\u001b[1;33m.\u001b[0m\u001b[0mapply\u001b[0m\u001b[1;33m(\u001b[0m\u001b[1;34m\"astype\"\u001b[0m\u001b[1;33m,\u001b[0m \u001b[0mdtype\u001b[0m\u001b[1;33m=\u001b[0m\u001b[0mdtype\u001b[0m\u001b[1;33m,\u001b[0m \u001b[0mcopy\u001b[0m\u001b[1;33m=\u001b[0m\u001b[0mcopy\u001b[0m\u001b[1;33m,\u001b[0m \u001b[0merrors\u001b[0m\u001b[1;33m=\u001b[0m\u001b[0merrors\u001b[0m\u001b[1;33m)\u001b[0m\u001b[1;33m\u001b[0m\u001b[1;33m\u001b[0m\u001b[0m\n\u001b[0m\u001b[0;32m    420\u001b[0m \u001b[1;33m\u001b[0m\u001b[0m\n\u001b[0;32m    421\u001b[0m     def convert(\n",
      "\u001b[1;32mc:\\Users\\admin\\anaconda3\\lib\\site-packages\\pandas\\core\\internals\\managers.py\u001b[0m in \u001b[0;36mapply\u001b[1;34m(self, f, align_keys, ignore_failures, **kwargs)\u001b[0m\n\u001b[0;32m    302\u001b[0m                     \u001b[0mapplied\u001b[0m \u001b[1;33m=\u001b[0m \u001b[0mb\u001b[0m\u001b[1;33m.\u001b[0m\u001b[0mapply\u001b[0m\u001b[1;33m(\u001b[0m\u001b[0mf\u001b[0m\u001b[1;33m,\u001b[0m \u001b[1;33m**\u001b[0m\u001b[0mkwargs\u001b[0m\u001b[1;33m)\u001b[0m\u001b[1;33m\u001b[0m\u001b[1;33m\u001b[0m\u001b[0m\n\u001b[0;32m    303\u001b[0m                 \u001b[1;32melse\u001b[0m\u001b[1;33m:\u001b[0m\u001b[1;33m\u001b[0m\u001b[1;33m\u001b[0m\u001b[0m\n\u001b[1;32m--> 304\u001b[1;33m                     \u001b[0mapplied\u001b[0m \u001b[1;33m=\u001b[0m \u001b[0mgetattr\u001b[0m\u001b[1;33m(\u001b[0m\u001b[0mb\u001b[0m\u001b[1;33m,\u001b[0m \u001b[0mf\u001b[0m\u001b[1;33m)\u001b[0m\u001b[1;33m(\u001b[0m\u001b[1;33m**\u001b[0m\u001b[0mkwargs\u001b[0m\u001b[1;33m)\u001b[0m\u001b[1;33m\u001b[0m\u001b[1;33m\u001b[0m\u001b[0m\n\u001b[0m\u001b[0;32m    305\u001b[0m             \u001b[1;32mexcept\u001b[0m \u001b[1;33m(\u001b[0m\u001b[0mTypeError\u001b[0m\u001b[1;33m,\u001b[0m \u001b[0mNotImplementedError\u001b[0m\u001b[1;33m)\u001b[0m\u001b[1;33m:\u001b[0m\u001b[1;33m\u001b[0m\u001b[1;33m\u001b[0m\u001b[0m\n\u001b[0;32m    306\u001b[0m                 \u001b[1;32mif\u001b[0m \u001b[1;32mnot\u001b[0m \u001b[0mignore_failures\u001b[0m\u001b[1;33m:\u001b[0m\u001b[1;33m\u001b[0m\u001b[1;33m\u001b[0m\u001b[0m\n",
      "\u001b[1;32mc:\\Users\\admin\\anaconda3\\lib\\site-packages\\pandas\\core\\internals\\blocks.py\u001b[0m in \u001b[0;36mastype\u001b[1;34m(self, dtype, copy, errors)\u001b[0m\n\u001b[0;32m    578\u001b[0m         \u001b[0mvalues\u001b[0m \u001b[1;33m=\u001b[0m \u001b[0mself\u001b[0m\u001b[1;33m.\u001b[0m\u001b[0mvalues\u001b[0m\u001b[1;33m\u001b[0m\u001b[1;33m\u001b[0m\u001b[0m\n\u001b[0;32m    579\u001b[0m \u001b[1;33m\u001b[0m\u001b[0m\n\u001b[1;32m--> 580\u001b[1;33m         \u001b[0mnew_values\u001b[0m \u001b[1;33m=\u001b[0m \u001b[0mastype_array_safe\u001b[0m\u001b[1;33m(\u001b[0m\u001b[0mvalues\u001b[0m\u001b[1;33m,\u001b[0m \u001b[0mdtype\u001b[0m\u001b[1;33m,\u001b[0m \u001b[0mcopy\u001b[0m\u001b[1;33m=\u001b[0m\u001b[0mcopy\u001b[0m\u001b[1;33m,\u001b[0m \u001b[0merrors\u001b[0m\u001b[1;33m=\u001b[0m\u001b[0merrors\u001b[0m\u001b[1;33m)\u001b[0m\u001b[1;33m\u001b[0m\u001b[1;33m\u001b[0m\u001b[0m\n\u001b[0m\u001b[0;32m    581\u001b[0m \u001b[1;33m\u001b[0m\u001b[0m\n\u001b[0;32m    582\u001b[0m         \u001b[0mnew_values\u001b[0m \u001b[1;33m=\u001b[0m \u001b[0mmaybe_coerce_values\u001b[0m\u001b[1;33m(\u001b[0m\u001b[0mnew_values\u001b[0m\u001b[1;33m)\u001b[0m\u001b[1;33m\u001b[0m\u001b[1;33m\u001b[0m\u001b[0m\n",
      "\u001b[1;32mc:\\Users\\admin\\anaconda3\\lib\\site-packages\\pandas\\core\\dtypes\\cast.py\u001b[0m in \u001b[0;36mastype_array_safe\u001b[1;34m(values, dtype, copy, errors)\u001b[0m\n\u001b[0;32m   1290\u001b[0m \u001b[1;33m\u001b[0m\u001b[0m\n\u001b[0;32m   1291\u001b[0m     \u001b[1;32mtry\u001b[0m\u001b[1;33m:\u001b[0m\u001b[1;33m\u001b[0m\u001b[1;33m\u001b[0m\u001b[0m\n\u001b[1;32m-> 1292\u001b[1;33m         \u001b[0mnew_values\u001b[0m \u001b[1;33m=\u001b[0m \u001b[0mastype_array\u001b[0m\u001b[1;33m(\u001b[0m\u001b[0mvalues\u001b[0m\u001b[1;33m,\u001b[0m \u001b[0mdtype\u001b[0m\u001b[1;33m,\u001b[0m \u001b[0mcopy\u001b[0m\u001b[1;33m=\u001b[0m\u001b[0mcopy\u001b[0m\u001b[1;33m)\u001b[0m\u001b[1;33m\u001b[0m\u001b[1;33m\u001b[0m\u001b[0m\n\u001b[0m\u001b[0;32m   1293\u001b[0m     \u001b[1;32mexcept\u001b[0m \u001b[1;33m(\u001b[0m\u001b[0mValueError\u001b[0m\u001b[1;33m,\u001b[0m \u001b[0mTypeError\u001b[0m\u001b[1;33m)\u001b[0m\u001b[1;33m:\u001b[0m\u001b[1;33m\u001b[0m\u001b[1;33m\u001b[0m\u001b[0m\n\u001b[0;32m   1294\u001b[0m         \u001b[1;31m# e.g. astype_nansafe can fail on object-dtype of strings\u001b[0m\u001b[1;33m\u001b[0m\u001b[1;33m\u001b[0m\u001b[0m\n",
      "\u001b[1;32mc:\\Users\\admin\\anaconda3\\lib\\site-packages\\pandas\\core\\dtypes\\cast.py\u001b[0m in \u001b[0;36mastype_array\u001b[1;34m(values, dtype, copy)\u001b[0m\n\u001b[0;32m   1235\u001b[0m \u001b[1;33m\u001b[0m\u001b[0m\n\u001b[0;32m   1236\u001b[0m     \u001b[1;32melse\u001b[0m\u001b[1;33m:\u001b[0m\u001b[1;33m\u001b[0m\u001b[1;33m\u001b[0m\u001b[0m\n\u001b[1;32m-> 1237\u001b[1;33m         \u001b[0mvalues\u001b[0m \u001b[1;33m=\u001b[0m \u001b[0mastype_nansafe\u001b[0m\u001b[1;33m(\u001b[0m\u001b[0mvalues\u001b[0m\u001b[1;33m,\u001b[0m \u001b[0mdtype\u001b[0m\u001b[1;33m,\u001b[0m \u001b[0mcopy\u001b[0m\u001b[1;33m=\u001b[0m\u001b[0mcopy\u001b[0m\u001b[1;33m)\u001b[0m\u001b[1;33m\u001b[0m\u001b[1;33m\u001b[0m\u001b[0m\n\u001b[0m\u001b[0;32m   1238\u001b[0m \u001b[1;33m\u001b[0m\u001b[0m\n\u001b[0;32m   1239\u001b[0m     \u001b[1;31m# in pandas we don't store numpy str dtypes, so convert to object\u001b[0m\u001b[1;33m\u001b[0m\u001b[1;33m\u001b[0m\u001b[0m\n",
      "\u001b[1;32mc:\\Users\\admin\\anaconda3\\lib\\site-packages\\pandas\\core\\dtypes\\cast.py\u001b[0m in \u001b[0;36mastype_nansafe\u001b[1;34m(arr, dtype, copy, skipna)\u001b[0m\n\u001b[0;32m   1152\u001b[0m         \u001b[1;31m# work around NumPy brokenness, #1987\u001b[0m\u001b[1;33m\u001b[0m\u001b[1;33m\u001b[0m\u001b[0m\n\u001b[0;32m   1153\u001b[0m         \u001b[1;32mif\u001b[0m \u001b[0mnp\u001b[0m\u001b[1;33m.\u001b[0m\u001b[0missubdtype\u001b[0m\u001b[1;33m(\u001b[0m\u001b[0mdtype\u001b[0m\u001b[1;33m.\u001b[0m\u001b[0mtype\u001b[0m\u001b[1;33m,\u001b[0m \u001b[0mnp\u001b[0m\u001b[1;33m.\u001b[0m\u001b[0minteger\u001b[0m\u001b[1;33m)\u001b[0m\u001b[1;33m:\u001b[0m\u001b[1;33m\u001b[0m\u001b[1;33m\u001b[0m\u001b[0m\n\u001b[1;32m-> 1154\u001b[1;33m             \u001b[1;32mreturn\u001b[0m \u001b[0mlib\u001b[0m\u001b[1;33m.\u001b[0m\u001b[0mastype_intsafe\u001b[0m\u001b[1;33m(\u001b[0m\u001b[0marr\u001b[0m\u001b[1;33m,\u001b[0m \u001b[0mdtype\u001b[0m\u001b[1;33m)\u001b[0m\u001b[1;33m\u001b[0m\u001b[1;33m\u001b[0m\u001b[0m\n\u001b[0m\u001b[0;32m   1155\u001b[0m \u001b[1;33m\u001b[0m\u001b[0m\n\u001b[0;32m   1156\u001b[0m         \u001b[1;31m# if we have a datetime/timedelta array of objects\u001b[0m\u001b[1;33m\u001b[0m\u001b[1;33m\u001b[0m\u001b[0m\n",
      "\u001b[1;32mc:\\Users\\admin\\anaconda3\\lib\\site-packages\\pandas\\_libs\\lib.pyx\u001b[0m in \u001b[0;36mpandas._libs.lib.astype_intsafe\u001b[1;34m()\u001b[0m\n",
      "\u001b[1;31mValueError\u001b[0m: invalid literal for int() with base 10: '  '"
     ]
    }
   ],
   "source": [
    "last_df['분양가격(㎡)'].astype(int)"
   ]
  },
  {
   "cell_type": "code",
   "execution_count": 45,
   "metadata": {},
   "outputs": [
    {
     "data": {
      "text/plain": [
       "0       5841.0\n",
       "1       5652.0\n",
       "2       5882.0\n",
       "3       5721.0\n",
       "4       5879.0\n",
       "         ...  \n",
       "4330    3882.0\n",
       "4331       NaN\n",
       "4332    3898.0\n",
       "4333       NaN\n",
       "4334    3601.0\n",
       "Name: 분양가격(㎡), Length: 4335, dtype: float64"
      ]
     },
     "execution_count": 45,
     "metadata": {},
     "output_type": "execute_result"
    }
   ],
   "source": [
    "pd.to_numeric(last_df['분양가격(㎡)'], errors='coerce')"
   ]
  },
  {
   "cell_type": "code",
   "execution_count": 46,
   "metadata": {},
   "outputs": [],
   "source": [
    "last_df['분양가격'] = pd.to_numeric(last_df['분양가격(㎡)'], errors='coerce')"
   ]
  },
  {
   "cell_type": "code",
   "execution_count": 47,
   "metadata": {},
   "outputs": [
    {
     "data": {
      "text/plain": [
       "지역명          0\n",
       "규모구분         0\n",
       "연도           0\n",
       "월            0\n",
       "분양가격(㎡)    277\n",
       "분양가격       378\n",
       "dtype: int64"
      ]
     },
     "execution_count": 47,
     "metadata": {},
     "output_type": "execute_result"
    }
   ],
   "source": [
    "last_df.isnull().sum()"
   ]
  },
  {
   "cell_type": "code",
   "execution_count": 48,
   "metadata": {},
   "outputs": [
    {
     "name": "stdout",
     "output_type": "stream",
     "text": [
      "<class 'pandas.core.frame.DataFrame'>\n",
      "RangeIndex: 4335 entries, 0 to 4334\n",
      "Data columns (total 6 columns):\n",
      " #   Column   Non-Null Count  Dtype  \n",
      "---  ------   --------------  -----  \n",
      " 0   지역명      4335 non-null   object \n",
      " 1   규모구분     4335 non-null   object \n",
      " 2   연도       4335 non-null   int64  \n",
      " 3   월        4335 non-null   int64  \n",
      " 4   분양가격(㎡)  4058 non-null   object \n",
      " 5   분양가격     3957 non-null   float64\n",
      "dtypes: float64(1), int64(2), object(3)\n",
      "memory usage: 203.3+ KB\n"
     ]
    }
   ],
   "source": [
    "last_df.info()"
   ]
  },
  {
   "cell_type": "code",
   "execution_count": 51,
   "metadata": {},
   "outputs": [
    {
     "data": {
      "text/plain": [
       "float"
      ]
     },
     "execution_count": 51,
     "metadata": {},
     "output_type": "execute_result"
    }
   ],
   "source": [
    "type(np.NaN)"
   ]
  },
  {
   "cell_type": "code",
   "execution_count": 52,
   "metadata": {},
   "outputs": [
    {
     "data": {
      "text/plain": [
       "12813275.0"
      ]
     },
     "execution_count": 52,
     "metadata": {},
     "output_type": "execute_result"
    }
   ],
   "source": [
    "last_df['분양가격'].sum()"
   ]
  },
  {
   "cell_type": "code",
   "execution_count": 53,
   "metadata": {},
   "outputs": [
    {
     "data": {
      "text/plain": [
       "3238.128632802628"
      ]
     },
     "execution_count": 53,
     "metadata": {},
     "output_type": "execute_result"
    }
   ],
   "source": [
    "last_df['분양가격'].mean()"
   ]
  },
  {
   "cell_type": "code",
   "execution_count": 54,
   "metadata": {},
   "outputs": [],
   "source": [
    "last_df['평당분양가격'] = last_df['분양가격'] * 3.3"
   ]
  },
  {
   "cell_type": "code",
   "execution_count": 55,
   "metadata": {},
   "outputs": [
    {
     "name": "stdout",
     "output_type": "stream",
     "text": [
      "<class 'pandas.core.frame.DataFrame'>\n",
      "RangeIndex: 4335 entries, 0 to 4334\n",
      "Data columns (total 7 columns):\n",
      " #   Column   Non-Null Count  Dtype  \n",
      "---  ------   --------------  -----  \n",
      " 0   지역명      4335 non-null   object \n",
      " 1   규모구분     4335 non-null   object \n",
      " 2   연도       4335 non-null   int64  \n",
      " 3   월        4335 non-null   int64  \n",
      " 4   분양가격(㎡)  4058 non-null   object \n",
      " 5   분양가격     3957 non-null   float64\n",
      " 6   평당분양가격   3957 non-null   float64\n",
      "dtypes: float64(2), int64(2), object(3)\n",
      "memory usage: 237.2+ KB\n"
     ]
    }
   ],
   "source": [
    "last_df.info()"
   ]
  },
  {
   "cell_type": "code",
   "execution_count": 56,
   "metadata": {},
   "outputs": [
    {
     "data": {
      "text/plain": [
       "count     4058\n",
       "unique    1753\n",
       "top       2221\n",
       "freq        17\n",
       "Name: 분양가격(㎡), dtype: object"
      ]
     },
     "execution_count": 56,
     "metadata": {},
     "output_type": "execute_result"
    }
   ],
   "source": [
    "last_df['분양가격(㎡)'].describe()"
   ]
  },
  {
   "cell_type": "code",
   "execution_count": 57,
   "metadata": {},
   "outputs": [
    {
     "data": {
      "text/plain": [
       "count     3957.000000\n",
       "mean      3238.128633\n",
       "std       1264.309933\n",
       "min       1868.000000\n",
       "25%       2441.000000\n",
       "50%       2874.000000\n",
       "75%       3561.000000\n",
       "max      12728.000000\n",
       "Name: 분양가격, dtype: float64"
      ]
     },
     "execution_count": 57,
     "metadata": {},
     "output_type": "execute_result"
    }
   ],
   "source": [
    "last_df['분양가격'].describe()"
   ]
  },
  {
   "cell_type": "code",
   "execution_count": 58,
   "metadata": {},
   "outputs": [
    {
     "data": {
      "text/plain": [
       "1753"
      ]
     },
     "execution_count": 58,
     "metadata": {},
     "output_type": "execute_result"
    }
   ],
   "source": [
    "last_df['분양가격(㎡)'].nunique()"
   ]
  },
  {
   "cell_type": "code",
   "execution_count": 60,
   "metadata": {},
   "outputs": [
    {
     "data": {
      "text/plain": [
       "5"
      ]
     },
     "execution_count": 60,
     "metadata": {},
     "output_type": "execute_result"
    }
   ],
   "source": [
    "last_df['규모구분'].nunique()"
   ]
  },
  {
   "cell_type": "code",
   "execution_count": 61,
   "metadata": {},
   "outputs": [
    {
     "data": {
      "text/plain": [
       "array(['전체', '전용면적 60㎡이하', '전용면적 60㎡초과 85㎡이하', '전용면적 85㎡초과 102㎡이하',\n",
       "       '전용면적 102㎡초과'], dtype=object)"
      ]
     },
     "execution_count": 61,
     "metadata": {},
     "output_type": "execute_result"
    }
   ],
   "source": [
    "last_df['규모구분'].unique()"
   ]
  },
  {
   "cell_type": "code",
   "execution_count": 68,
   "metadata": {},
   "outputs": [],
   "source": [
    "last_df['전용면적'] = last_df['규모구분'].replace(['전체', '전용면적 60㎡이하', '전용면적 60㎡초과 85㎡이하', '전용면적 85㎡초과 102㎡이하',\n",
    "       '전용면적 102㎡초과'], ['전체', '60㎡', '60㎡~85㎡', '85㎡~102㎡', '102㎡~'])"
   ]
  },
  {
   "cell_type": "code",
   "execution_count": 69,
   "metadata": {},
   "outputs": [
    {
     "data": {
      "text/plain": [
       "0             전체\n",
       "1            60㎡\n",
       "2        60㎡~85㎡\n",
       "3       85㎡~102㎡\n",
       "4          102㎡~\n",
       "          ...   \n",
       "4330          전체\n",
       "4331         60㎡\n",
       "4332     60㎡~85㎡\n",
       "4333    85㎡~102㎡\n",
       "4334       102㎡~\n",
       "Name: 전용면적, Length: 4335, dtype: object"
      ]
     },
     "execution_count": 69,
     "metadata": {},
     "output_type": "execute_result"
    }
   ],
   "source": [
    "last_df['전용면적']"
   ]
  },
  {
   "cell_type": "code",
   "execution_count": 70,
   "metadata": {},
   "outputs": [
    {
     "data": {
      "text/plain": [
       "Index(['지역명', '규모구분', '연도', '월', '분양가격(㎡)', '분양가격', '평당분양가격', '전용면적'], dtype='object')"
      ]
     },
     "execution_count": 70,
     "metadata": {},
     "output_type": "execute_result"
    }
   ],
   "source": [
    "last_df.columns"
   ]
  },
  {
   "cell_type": "code",
   "execution_count": 72,
   "metadata": {},
   "outputs": [
    {
     "name": "stdout",
     "output_type": "stream",
     "text": [
      "<class 'pandas.core.frame.DataFrame'>\n",
      "RangeIndex: 4335 entries, 0 to 4334\n",
      "Data columns (total 8 columns):\n",
      " #   Column   Non-Null Count  Dtype  \n",
      "---  ------   --------------  -----  \n",
      " 0   지역명      4335 non-null   object \n",
      " 1   규모구분     4335 non-null   object \n",
      " 2   연도       4335 non-null   int64  \n",
      " 3   월        4335 non-null   int64  \n",
      " 4   분양가격(㎡)  4058 non-null   object \n",
      " 5   분양가격     3957 non-null   float64\n",
      " 6   평당분양가격   3957 non-null   float64\n",
      " 7   전용면적     4335 non-null   object \n",
      "dtypes: float64(2), int64(2), object(4)\n",
      "memory usage: 271.1+ KB\n"
     ]
    }
   ],
   "source": [
    "last_df.info()"
   ]
  },
  {
   "cell_type": "code",
   "execution_count": 73,
   "metadata": {},
   "outputs": [],
   "source": [
    "last_df.drop(columns=['규모구분', '분양가격(㎡)'], inplace=True)"
   ]
  },
  {
   "cell_type": "code",
   "execution_count": 74,
   "metadata": {},
   "outputs": [
    {
     "name": "stdout",
     "output_type": "stream",
     "text": [
      "<class 'pandas.core.frame.DataFrame'>\n",
      "RangeIndex: 4335 entries, 0 to 4334\n",
      "Data columns (total 6 columns):\n",
      " #   Column  Non-Null Count  Dtype  \n",
      "---  ------  --------------  -----  \n",
      " 0   지역명     4335 non-null   object \n",
      " 1   연도      4335 non-null   int64  \n",
      " 2   월       4335 non-null   int64  \n",
      " 3   분양가격    3957 non-null   float64\n",
      " 4   평당분양가격  3957 non-null   float64\n",
      " 5   전용면적    4335 non-null   object \n",
      "dtypes: float64(2), int64(2), object(2)\n",
      "memory usage: 203.3+ KB\n"
     ]
    }
   ],
   "source": [
    "last_df.info()"
   ]
  },
  {
   "cell_type": "code",
   "execution_count": null,
   "metadata": {},
   "outputs": [],
   "source": [
    "#groupby() 데이터 집계"
   ]
  },
  {
   "cell_type": "code",
   "execution_count": 75,
   "metadata": {},
   "outputs": [
    {
     "name": "stdout",
     "output_type": "stream",
     "text": [
      "\u001b[1;31mSignature:\u001b[0m\n",
      "\u001b[0mlast_df\u001b[0m\u001b[1;33m.\u001b[0m\u001b[0mgroupby\u001b[0m\u001b[1;33m(\u001b[0m\u001b[1;33m\n",
      "\u001b[0m    \u001b[0mby\u001b[0m\u001b[1;33m=\u001b[0m\u001b[1;32mNone\u001b[0m\u001b[1;33m,\u001b[0m\u001b[1;33m\n",
      "\u001b[0m    \u001b[0maxis\u001b[0m\u001b[1;33m:\u001b[0m \u001b[1;34m'Axis'\u001b[0m \u001b[1;33m=\u001b[0m \u001b[1;36m0\u001b[0m\u001b[1;33m,\u001b[0m\u001b[1;33m\n",
      "\u001b[0m    \u001b[0mlevel\u001b[0m\u001b[1;33m:\u001b[0m \u001b[1;34m'Level | None'\u001b[0m \u001b[1;33m=\u001b[0m \u001b[1;32mNone\u001b[0m\u001b[1;33m,\u001b[0m\u001b[1;33m\n",
      "\u001b[0m    \u001b[0mas_index\u001b[0m\u001b[1;33m:\u001b[0m \u001b[1;34m'bool'\u001b[0m \u001b[1;33m=\u001b[0m \u001b[1;32mTrue\u001b[0m\u001b[1;33m,\u001b[0m\u001b[1;33m\n",
      "\u001b[0m    \u001b[0msort\u001b[0m\u001b[1;33m:\u001b[0m \u001b[1;34m'bool'\u001b[0m \u001b[1;33m=\u001b[0m \u001b[1;32mTrue\u001b[0m\u001b[1;33m,\u001b[0m\u001b[1;33m\n",
      "\u001b[0m    \u001b[0mgroup_keys\u001b[0m\u001b[1;33m:\u001b[0m \u001b[1;34m'bool'\u001b[0m \u001b[1;33m=\u001b[0m \u001b[1;32mTrue\u001b[0m\u001b[1;33m,\u001b[0m\u001b[1;33m\n",
      "\u001b[0m    \u001b[0msqueeze\u001b[0m\u001b[1;33m:\u001b[0m \u001b[1;34m'bool | lib.NoDefault'\u001b[0m \u001b[1;33m=\u001b[0m \u001b[1;33m<\u001b[0m\u001b[0mno_default\u001b[0m\u001b[1;33m>\u001b[0m\u001b[1;33m,\u001b[0m\u001b[1;33m\n",
      "\u001b[0m    \u001b[0mobserved\u001b[0m\u001b[1;33m:\u001b[0m \u001b[1;34m'bool'\u001b[0m \u001b[1;33m=\u001b[0m \u001b[1;32mFalse\u001b[0m\u001b[1;33m,\u001b[0m\u001b[1;33m\n",
      "\u001b[0m    \u001b[0mdropna\u001b[0m\u001b[1;33m:\u001b[0m \u001b[1;34m'bool'\u001b[0m \u001b[1;33m=\u001b[0m \u001b[1;32mTrue\u001b[0m\u001b[1;33m,\u001b[0m\u001b[1;33m\n",
      "\u001b[0m\u001b[1;33m)\u001b[0m \u001b[1;33m->\u001b[0m \u001b[1;34m'DataFrameGroupBy'\u001b[0m\u001b[1;33m\u001b[0m\u001b[1;33m\u001b[0m\u001b[0m\n",
      "\u001b[1;31mDocstring:\u001b[0m\n",
      "Group DataFrame using a mapper or by a Series of columns.\n",
      "\n",
      "A groupby operation involves some combination of splitting the\n",
      "object, applying a function, and combining the results. This can be\n",
      "used to group large amounts of data and compute operations on these\n",
      "groups.\n",
      "\n",
      "Parameters\n",
      "----------\n",
      "by : mapping, function, label, or list of labels\n",
      "    Used to determine the groups for the groupby.\n",
      "    If ``by`` is a function, it's called on each value of the object's\n",
      "    index. If a dict or Series is passed, the Series or dict VALUES\n",
      "    will be used to determine the groups (the Series' values are first\n",
      "    aligned; see ``.align()`` method). If a list or ndarray of length\n",
      "    equal to the selected axis is passed (see the `groupby user guide\n",
      "    <https://pandas.pydata.org/pandas-docs/stable/user_guide/groupby.html#splitting-an-object-into-groups>`_),\n",
      "    the values are used as-is to determine the groups. A label or list\n",
      "    of labels may be passed to group by the columns in ``self``.\n",
      "    Notice that a tuple is interpreted as a (single) key.\n",
      "axis : {0 or 'index', 1 or 'columns'}, default 0\n",
      "    Split along rows (0) or columns (1).\n",
      "level : int, level name, or sequence of such, default None\n",
      "    If the axis is a MultiIndex (hierarchical), group by a particular\n",
      "    level or levels.\n",
      "as_index : bool, default True\n",
      "    For aggregated output, return object with group labels as the\n",
      "    index. Only relevant for DataFrame input. as_index=False is\n",
      "    effectively \"SQL-style\" grouped output.\n",
      "sort : bool, default True\n",
      "    Sort group keys. Get better performance by turning this off.\n",
      "    Note this does not influence the order of observations within each\n",
      "    group. Groupby preserves the order of rows within each group.\n",
      "group_keys : bool, default True\n",
      "    When calling apply, add group keys to index to identify pieces.\n",
      "squeeze : bool, default False\n",
      "    Reduce the dimensionality of the return type if possible,\n",
      "    otherwise return a consistent type.\n",
      "\n",
      "    .. deprecated:: 1.1.0\n",
      "\n",
      "observed : bool, default False\n",
      "    This only applies if any of the groupers are Categoricals.\n",
      "    If True: only show observed values for categorical groupers.\n",
      "    If False: show all values for categorical groupers.\n",
      "dropna : bool, default True\n",
      "    If True, and if group keys contain NA values, NA values together\n",
      "    with row/column will be dropped.\n",
      "    If False, NA values will also be treated as the key in groups.\n",
      "\n",
      "    .. versionadded:: 1.1.0\n",
      "\n",
      "Returns\n",
      "-------\n",
      "DataFrameGroupBy\n",
      "    Returns a groupby object that contains information about the groups.\n",
      "\n",
      "See Also\n",
      "--------\n",
      "resample : Convenience method for frequency conversion and resampling\n",
      "    of time series.\n",
      "\n",
      "Notes\n",
      "-----\n",
      "See the `user guide\n",
      "<https://pandas.pydata.org/pandas-docs/stable/groupby.html>`__ for more\n",
      "detailed usage and examples, including splitting an object into groups,\n",
      "iterating through groups, selecting a group, aggregation, and more.\n",
      "\n",
      "Examples\n",
      "--------\n",
      ">>> df = pd.DataFrame({'Animal': ['Falcon', 'Falcon',\n",
      "...                               'Parrot', 'Parrot'],\n",
      "...                    'Max Speed': [380., 370., 24., 26.]})\n",
      ">>> df\n",
      "   Animal  Max Speed\n",
      "0  Falcon      380.0\n",
      "1  Falcon      370.0\n",
      "2  Parrot       24.0\n",
      "3  Parrot       26.0\n",
      ">>> df.groupby(['Animal']).mean()\n",
      "        Max Speed\n",
      "Animal\n",
      "Falcon      375.0\n",
      "Parrot       25.0\n",
      "\n",
      "**Hierarchical Indexes**\n",
      "\n",
      "We can groupby different levels of a hierarchical index\n",
      "using the `level` parameter:\n",
      "\n",
      ">>> arrays = [['Falcon', 'Falcon', 'Parrot', 'Parrot'],\n",
      "...           ['Captive', 'Wild', 'Captive', 'Wild']]\n",
      ">>> index = pd.MultiIndex.from_arrays(arrays, names=('Animal', 'Type'))\n",
      ">>> df = pd.DataFrame({'Max Speed': [390., 350., 30., 20.]},\n",
      "...                   index=index)\n",
      ">>> df\n",
      "                Max Speed\n",
      "Animal Type\n",
      "Falcon Captive      390.0\n",
      "       Wild         350.0\n",
      "Parrot Captive       30.0\n",
      "       Wild          20.0\n",
      ">>> df.groupby(level=0).mean()\n",
      "        Max Speed\n",
      "Animal\n",
      "Falcon      370.0\n",
      "Parrot       25.0\n",
      ">>> df.groupby(level=\"Type\").mean()\n",
      "         Max Speed\n",
      "Type\n",
      "Captive      210.0\n",
      "Wild         185.0\n",
      "\n",
      "We can also choose to include NA in group keys or not by setting\n",
      "`dropna` parameter, the default setting is `True`.\n",
      "\n",
      ">>> l = [[1, 2, 3], [1, None, 4], [2, 1, 3], [1, 2, 2]]\n",
      ">>> df = pd.DataFrame(l, columns=[\"a\", \"b\", \"c\"])\n",
      "\n",
      ">>> df.groupby(by=[\"b\"]).sum()\n",
      "    a   c\n",
      "b\n",
      "1.0 2   3\n",
      "2.0 2   5\n",
      "\n",
      ">>> df.groupby(by=[\"b\"], dropna=False).sum()\n",
      "    a   c\n",
      "b\n",
      "1.0 2   3\n",
      "2.0 2   5\n",
      "NaN 1   4\n",
      "\n",
      ">>> l = [[\"a\", 12, 12], [None, 12.3, 33.], [\"b\", 12.3, 123], [\"a\", 1, 1]]\n",
      ">>> df = pd.DataFrame(l, columns=[\"a\", \"b\", \"c\"])\n",
      "\n",
      ">>> df.groupby(by=\"a\").sum()\n",
      "    b     c\n",
      "a\n",
      "a   13.0   13.0\n",
      "b   12.3  123.0\n",
      "\n",
      ">>> df.groupby(by=\"a\", dropna=False).sum()\n",
      "    b     c\n",
      "a\n",
      "a   13.0   13.0\n",
      "b   12.3  123.0\n",
      "NaN 12.3   33.0\n",
      "\u001b[1;31mFile:\u001b[0m      c:\\users\\admin\\anaconda3\\lib\\site-packages\\pandas\\core\\frame.py\n",
      "\u001b[1;31mType:\u001b[0m      method\n"
     ]
    }
   ],
   "source": [
    "last_df.groupby?"
   ]
  },
  {
   "cell_type": "code",
   "execution_count": 76,
   "metadata": {},
   "outputs": [
    {
     "data": {
      "text/html": [
       "<div>\n",
       "<style scoped>\n",
       "    .dataframe tbody tr th:only-of-type {\n",
       "        vertical-align: middle;\n",
       "    }\n",
       "\n",
       "    .dataframe tbody tr th {\n",
       "        vertical-align: top;\n",
       "    }\n",
       "\n",
       "    .dataframe thead th {\n",
       "        text-align: right;\n",
       "    }\n",
       "</style>\n",
       "<table border=\"1\" class=\"dataframe\">\n",
       "  <thead>\n",
       "    <tr style=\"text-align: right;\">\n",
       "      <th></th>\n",
       "      <th>지역명</th>\n",
       "      <th>연도</th>\n",
       "      <th>월</th>\n",
       "      <th>분양가격</th>\n",
       "      <th>평당분양가격</th>\n",
       "      <th>전용면적</th>\n",
       "    </tr>\n",
       "  </thead>\n",
       "  <tbody>\n",
       "    <tr>\n",
       "      <th>0</th>\n",
       "      <td>서울</td>\n",
       "      <td>2015</td>\n",
       "      <td>10</td>\n",
       "      <td>5841.0</td>\n",
       "      <td>19275.3</td>\n",
       "      <td>전체</td>\n",
       "    </tr>\n",
       "    <tr>\n",
       "      <th>1</th>\n",
       "      <td>서울</td>\n",
       "      <td>2015</td>\n",
       "      <td>10</td>\n",
       "      <td>5652.0</td>\n",
       "      <td>18651.6</td>\n",
       "      <td>60㎡</td>\n",
       "    </tr>\n",
       "    <tr>\n",
       "      <th>2</th>\n",
       "      <td>서울</td>\n",
       "      <td>2015</td>\n",
       "      <td>10</td>\n",
       "      <td>5882.0</td>\n",
       "      <td>19410.6</td>\n",
       "      <td>60㎡~85㎡</td>\n",
       "    </tr>\n",
       "    <tr>\n",
       "      <th>3</th>\n",
       "      <td>서울</td>\n",
       "      <td>2015</td>\n",
       "      <td>10</td>\n",
       "      <td>5721.0</td>\n",
       "      <td>18879.3</td>\n",
       "      <td>85㎡~102㎡</td>\n",
       "    </tr>\n",
       "    <tr>\n",
       "      <th>4</th>\n",
       "      <td>서울</td>\n",
       "      <td>2015</td>\n",
       "      <td>10</td>\n",
       "      <td>5879.0</td>\n",
       "      <td>19400.7</td>\n",
       "      <td>102㎡~</td>\n",
       "    </tr>\n",
       "  </tbody>\n",
       "</table>\n",
       "</div>"
      ],
      "text/plain": [
       "  지역명    연도   월    분양가격   평당분양가격      전용면적\n",
       "0  서울  2015  10  5841.0  19275.3        전체\n",
       "1  서울  2015  10  5652.0  18651.6       60㎡\n",
       "2  서울  2015  10  5882.0  19410.6   60㎡~85㎡\n",
       "3  서울  2015  10  5721.0  18879.3  85㎡~102㎡\n",
       "4  서울  2015  10  5879.0  19400.7     102㎡~"
      ]
     },
     "execution_count": 76,
     "metadata": {},
     "output_type": "execute_result"
    }
   ],
   "source": [
    "last_df.head()"
   ]
  },
  {
   "cell_type": "code",
   "execution_count": 83,
   "metadata": {},
   "outputs": [
    {
     "data": {
      "text/plain": [
       "지역명\n",
       "강원     7477.536000\n",
       "경기    12559.602000\n",
       "경남     8658.672000\n",
       "경북     8078.532000\n",
       "광주     9903.630000\n",
       "대구    11771.298000\n",
       "대전     9786.018000\n",
       "부산    11936.166000\n",
       "서울    22610.346000\n",
       "세종     9805.422000\n",
       "울산    10492.712195\n",
       "인천    11257.026000\n",
       "전남     7283.562000\n",
       "전북     7292.604000\n",
       "제주    10784.994000\n",
       "충남     7815.324000\n",
       "충북     7219.014000\n",
       "Name: 평당분양가격, dtype: float64"
      ]
     },
     "execution_count": 83,
     "metadata": {},
     "output_type": "execute_result"
    }
   ],
   "source": [
    "last_df[last_df['전용면적'] == '전체'].groupby(['지역명'])['평당분양가격'].mean()"
   ]
  },
  {
   "cell_type": "code",
   "execution_count": 81,
   "metadata": {},
   "outputs": [
    {
     "ename": "IndexError",
     "evalue": "only integers, slices (`:`), ellipsis (`...`), numpy.newaxis (`None`) and integer or boolean arrays are valid indices",
     "output_type": "error",
     "traceback": [
      "\u001b[1;31m---------------------------------------------------------------------------\u001b[0m",
      "\u001b[1;31mIndexError\u001b[0m                                Traceback (most recent call last)",
      "\u001b[1;32m~\\AppData\\Local\\Temp\\ipykernel_17016\\2010203302.py\u001b[0m in \u001b[0;36m<module>\u001b[1;34m\u001b[0m\n\u001b[1;32m----> 1\u001b[1;33m \u001b[0mlast_df\u001b[0m\u001b[1;33m.\u001b[0m\u001b[0mgroupby\u001b[0m\u001b[1;33m(\u001b[0m\u001b[1;33m[\u001b[0m\u001b[1;34m'전용면적'\u001b[0m\u001b[1;33m]\u001b[0m\u001b[1;33m)\u001b[0m\u001b[1;33m.\u001b[0m\u001b[0mgroups\u001b[0m\u001b[1;33m[\u001b[0m\u001b[1;34m'전체'\u001b[0m\u001b[1;33m]\u001b[0m\u001b[1;33m[\u001b[0m\u001b[1;34m'평당분양가격'\u001b[0m\u001b[1;33m]\u001b[0m\u001b[1;33m.\u001b[0m\u001b[0mmean\u001b[0m\u001b[1;33m(\u001b[0m\u001b[1;33m)\u001b[0m\u001b[1;33m\u001b[0m\u001b[1;33m\u001b[0m\u001b[0m\n\u001b[0m",
      "\u001b[1;32mc:\\Users\\admin\\anaconda3\\lib\\site-packages\\pandas\\core\\indexes\\base.py\u001b[0m in \u001b[0;36m__getitem__\u001b[1;34m(self, key)\u001b[0m\n\u001b[0;32m   5067\u001b[0m             \u001b[0mkey\u001b[0m \u001b[1;33m=\u001b[0m \u001b[0mnp\u001b[0m\u001b[1;33m.\u001b[0m\u001b[0masarray\u001b[0m\u001b[1;33m(\u001b[0m\u001b[0mkey\u001b[0m\u001b[1;33m,\u001b[0m \u001b[0mdtype\u001b[0m\u001b[1;33m=\u001b[0m\u001b[0mbool\u001b[0m\u001b[1;33m)\u001b[0m\u001b[1;33m\u001b[0m\u001b[1;33m\u001b[0m\u001b[0m\n\u001b[0;32m   5068\u001b[0m \u001b[1;33m\u001b[0m\u001b[0m\n\u001b[1;32m-> 5069\u001b[1;33m         \u001b[0mresult\u001b[0m \u001b[1;33m=\u001b[0m \u001b[0mgetitem\u001b[0m\u001b[1;33m(\u001b[0m\u001b[0mkey\u001b[0m\u001b[1;33m)\u001b[0m\u001b[1;33m\u001b[0m\u001b[1;33m\u001b[0m\u001b[0m\n\u001b[0m\u001b[0;32m   5070\u001b[0m         \u001b[1;31m# Because we ruled out integer above, we always get an arraylike here\u001b[0m\u001b[1;33m\u001b[0m\u001b[1;33m\u001b[0m\u001b[0m\n\u001b[0;32m   5071\u001b[0m         \u001b[1;32mif\u001b[0m \u001b[0mresult\u001b[0m\u001b[1;33m.\u001b[0m\u001b[0mndim\u001b[0m \u001b[1;33m>\u001b[0m \u001b[1;36m1\u001b[0m\u001b[1;33m:\u001b[0m\u001b[1;33m\u001b[0m\u001b[1;33m\u001b[0m\u001b[0m\n",
      "\u001b[1;31mIndexError\u001b[0m: only integers, slices (`:`), ellipsis (`...`), numpy.newaxis (`None`) and integer or boolean arrays are valid indices"
     ]
    }
   ],
   "source": [
    "last_df.groupby(['전용면적'])['평당분양가격'].mean()"
   ]
  },
  {
   "cell_type": "code",
   "execution_count": 85,
   "metadata": {},
   "outputs": [
    {
     "data": {
      "text/plain": [
       "전용면적   지역명\n",
       "102㎡~  강원      8311.380000\n",
       "       경기     14771.790000\n",
       "       경남     10358.363265\n",
       "       경북      9157.302000\n",
       "       광주     11041.532432\n",
       "                  ...     \n",
       "전체     전남      7283.562000\n",
       "       전북      7292.604000\n",
       "       제주     10784.994000\n",
       "       충남      7815.324000\n",
       "       충북      7219.014000\n",
       "Name: 평당분양가격, Length: 85, dtype: float64"
      ]
     },
     "execution_count": 85,
     "metadata": {},
     "output_type": "execute_result"
    }
   ],
   "source": [
    "last_df.groupby(['전용면적', '지역명'])['평당분양가격'].mean()"
   ]
  },
  {
   "cell_type": "code",
   "execution_count": 90,
   "metadata": {},
   "outputs": [
    {
     "data": {
      "text/html": [
       "<div>\n",
       "<style scoped>\n",
       "    .dataframe tbody tr th:only-of-type {\n",
       "        vertical-align: middle;\n",
       "    }\n",
       "\n",
       "    .dataframe tbody tr th {\n",
       "        vertical-align: top;\n",
       "    }\n",
       "\n",
       "    .dataframe thead th {\n",
       "        text-align: right;\n",
       "    }\n",
       "</style>\n",
       "<table border=\"1\" class=\"dataframe\">\n",
       "  <thead>\n",
       "    <tr style=\"text-align: right;\">\n",
       "      <th>전용면적</th>\n",
       "      <th>102㎡~</th>\n",
       "      <th>60㎡</th>\n",
       "      <th>60㎡~85㎡</th>\n",
       "      <th>85㎡~102㎡</th>\n",
       "      <th>전체</th>\n",
       "    </tr>\n",
       "    <tr>\n",
       "      <th>지역명</th>\n",
       "      <th></th>\n",
       "      <th></th>\n",
       "      <th></th>\n",
       "      <th></th>\n",
       "      <th></th>\n",
       "    </tr>\n",
       "  </thead>\n",
       "  <tbody>\n",
       "    <tr>\n",
       "      <th>강원</th>\n",
       "      <td>8311.0</td>\n",
       "      <td>7567.0</td>\n",
       "      <td>7486.0</td>\n",
       "      <td>8750.0</td>\n",
       "      <td>7478.0</td>\n",
       "    </tr>\n",
       "    <tr>\n",
       "      <th>경기</th>\n",
       "      <td>14772.0</td>\n",
       "      <td>13252.0</td>\n",
       "      <td>12524.0</td>\n",
       "      <td>13678.0</td>\n",
       "      <td>12560.0</td>\n",
       "    </tr>\n",
       "    <tr>\n",
       "      <th>경남</th>\n",
       "      <td>10358.0</td>\n",
       "      <td>8689.0</td>\n",
       "      <td>8619.0</td>\n",
       "      <td>10018.0</td>\n",
       "      <td>8659.0</td>\n",
       "    </tr>\n",
       "    <tr>\n",
       "      <th>경북</th>\n",
       "      <td>9157.0</td>\n",
       "      <td>7883.0</td>\n",
       "      <td>8061.0</td>\n",
       "      <td>8774.0</td>\n",
       "      <td>8079.0</td>\n",
       "    </tr>\n",
       "    <tr>\n",
       "      <th>광주</th>\n",
       "      <td>11042.0</td>\n",
       "      <td>9431.0</td>\n",
       "      <td>9911.0</td>\n",
       "      <td>9296.0</td>\n",
       "      <td>9904.0</td>\n",
       "    </tr>\n",
       "    <tr>\n",
       "      <th>대구</th>\n",
       "      <td>13087.0</td>\n",
       "      <td>11992.0</td>\n",
       "      <td>11779.0</td>\n",
       "      <td>11141.0</td>\n",
       "      <td>11771.0</td>\n",
       "    </tr>\n",
       "    <tr>\n",
       "      <th>대전</th>\n",
       "      <td>14877.0</td>\n",
       "      <td>9176.0</td>\n",
       "      <td>9711.0</td>\n",
       "      <td>9037.0</td>\n",
       "      <td>9786.0</td>\n",
       "    </tr>\n",
       "    <tr>\n",
       "      <th>부산</th>\n",
       "      <td>13208.0</td>\n",
       "      <td>11354.0</td>\n",
       "      <td>11865.0</td>\n",
       "      <td>12073.0</td>\n",
       "      <td>11936.0</td>\n",
       "    </tr>\n",
       "    <tr>\n",
       "      <th>서울</th>\n",
       "      <td>23446.0</td>\n",
       "      <td>23213.0</td>\n",
       "      <td>22787.0</td>\n",
       "      <td>25944.0</td>\n",
       "      <td>22610.0</td>\n",
       "    </tr>\n",
       "    <tr>\n",
       "      <th>세종</th>\n",
       "      <td>10107.0</td>\n",
       "      <td>9324.0</td>\n",
       "      <td>9775.0</td>\n",
       "      <td>9848.0</td>\n",
       "      <td>9805.0</td>\n",
       "    </tr>\n",
       "    <tr>\n",
       "      <th>울산</th>\n",
       "      <td>9974.0</td>\n",
       "      <td>9202.0</td>\n",
       "      <td>10503.0</td>\n",
       "      <td>8861.0</td>\n",
       "      <td>10493.0</td>\n",
       "    </tr>\n",
       "    <tr>\n",
       "      <th>인천</th>\n",
       "      <td>14362.0</td>\n",
       "      <td>11241.0</td>\n",
       "      <td>11384.0</td>\n",
       "      <td>11528.0</td>\n",
       "      <td>11257.0</td>\n",
       "    </tr>\n",
       "    <tr>\n",
       "      <th>전남</th>\n",
       "      <td>8168.0</td>\n",
       "      <td>7210.0</td>\n",
       "      <td>7269.0</td>\n",
       "      <td>7909.0</td>\n",
       "      <td>7284.0</td>\n",
       "    </tr>\n",
       "    <tr>\n",
       "      <th>전북</th>\n",
       "      <td>8194.0</td>\n",
       "      <td>7610.0</td>\n",
       "      <td>7271.0</td>\n",
       "      <td>8276.0</td>\n",
       "      <td>7293.0</td>\n",
       "    </tr>\n",
       "    <tr>\n",
       "      <th>제주</th>\n",
       "      <td>10523.0</td>\n",
       "      <td>14022.0</td>\n",
       "      <td>10621.0</td>\n",
       "      <td>10709.0</td>\n",
       "      <td>10785.0</td>\n",
       "    </tr>\n",
       "    <tr>\n",
       "      <th>충남</th>\n",
       "      <td>8689.0</td>\n",
       "      <td>7911.0</td>\n",
       "      <td>7819.0</td>\n",
       "      <td>9120.0</td>\n",
       "      <td>7815.0</td>\n",
       "    </tr>\n",
       "    <tr>\n",
       "      <th>충북</th>\n",
       "      <td>8195.0</td>\n",
       "      <td>7103.0</td>\n",
       "      <td>7264.0</td>\n",
       "      <td>8391.0</td>\n",
       "      <td>7219.0</td>\n",
       "    </tr>\n",
       "  </tbody>\n",
       "</table>\n",
       "</div>"
      ],
      "text/plain": [
       "전용면적    102㎡~      60㎡  60㎡~85㎡  85㎡~102㎡       전체\n",
       "지역명                                               \n",
       "강원     8311.0   7567.0   7486.0    8750.0   7478.0\n",
       "경기    14772.0  13252.0  12524.0   13678.0  12560.0\n",
       "경남    10358.0   8689.0   8619.0   10018.0   8659.0\n",
       "경북     9157.0   7883.0   8061.0    8774.0   8079.0\n",
       "광주    11042.0   9431.0   9911.0    9296.0   9904.0\n",
       "대구    13087.0  11992.0  11779.0   11141.0  11771.0\n",
       "대전    14877.0   9176.0   9711.0    9037.0   9786.0\n",
       "부산    13208.0  11354.0  11865.0   12073.0  11936.0\n",
       "서울    23446.0  23213.0  22787.0   25944.0  22610.0\n",
       "세종    10107.0   9324.0   9775.0    9848.0   9805.0\n",
       "울산     9974.0   9202.0  10503.0    8861.0  10493.0\n",
       "인천    14362.0  11241.0  11384.0   11528.0  11257.0\n",
       "전남     8168.0   7210.0   7269.0    7909.0   7284.0\n",
       "전북     8194.0   7610.0   7271.0    8276.0   7293.0\n",
       "제주    10523.0  14022.0  10621.0   10709.0  10785.0\n",
       "충남     8689.0   7911.0   7819.0    9120.0   7815.0\n",
       "충북     8195.0   7103.0   7264.0    8391.0   7219.0"
      ]
     },
     "execution_count": 90,
     "metadata": {},
     "output_type": "execute_result"
    }
   ],
   "source": [
    "last_df.groupby(['지역명', '전용면적'])['평당분양가격'].mean().unstack().round()"
   ]
  },
  {
   "cell_type": "code",
   "execution_count": 89,
   "metadata": {},
   "outputs": [
    {
     "data": {
      "text/html": [
       "<div>\n",
       "<style scoped>\n",
       "    .dataframe tbody tr th:only-of-type {\n",
       "        vertical-align: middle;\n",
       "    }\n",
       "\n",
       "    .dataframe tbody tr th {\n",
       "        vertical-align: top;\n",
       "    }\n",
       "\n",
       "    .dataframe thead th {\n",
       "        text-align: right;\n",
       "    }\n",
       "</style>\n",
       "<table border=\"1\" class=\"dataframe\">\n",
       "  <thead>\n",
       "    <tr style=\"text-align: right;\">\n",
       "      <th>지역명</th>\n",
       "      <th>강원</th>\n",
       "      <th>경기</th>\n",
       "      <th>경남</th>\n",
       "      <th>경북</th>\n",
       "      <th>광주</th>\n",
       "      <th>대구</th>\n",
       "      <th>대전</th>\n",
       "      <th>부산</th>\n",
       "      <th>서울</th>\n",
       "      <th>세종</th>\n",
       "      <th>울산</th>\n",
       "      <th>인천</th>\n",
       "      <th>전남</th>\n",
       "      <th>전북</th>\n",
       "      <th>제주</th>\n",
       "      <th>충남</th>\n",
       "      <th>충북</th>\n",
       "    </tr>\n",
       "    <tr>\n",
       "      <th>전용면적</th>\n",
       "      <th></th>\n",
       "      <th></th>\n",
       "      <th></th>\n",
       "      <th></th>\n",
       "      <th></th>\n",
       "      <th></th>\n",
       "      <th></th>\n",
       "      <th></th>\n",
       "      <th></th>\n",
       "      <th></th>\n",
       "      <th></th>\n",
       "      <th></th>\n",
       "      <th></th>\n",
       "      <th></th>\n",
       "      <th></th>\n",
       "      <th></th>\n",
       "      <th></th>\n",
       "    </tr>\n",
       "  </thead>\n",
       "  <tbody>\n",
       "    <tr>\n",
       "      <th>102㎡~</th>\n",
       "      <td>8311.0</td>\n",
       "      <td>14772.0</td>\n",
       "      <td>10358.0</td>\n",
       "      <td>9157.0</td>\n",
       "      <td>11042.0</td>\n",
       "      <td>13087.0</td>\n",
       "      <td>14877.0</td>\n",
       "      <td>13208.0</td>\n",
       "      <td>23446.0</td>\n",
       "      <td>10107.0</td>\n",
       "      <td>9974.0</td>\n",
       "      <td>14362.0</td>\n",
       "      <td>8168.0</td>\n",
       "      <td>8194.0</td>\n",
       "      <td>10523.0</td>\n",
       "      <td>8689.0</td>\n",
       "      <td>8195.0</td>\n",
       "    </tr>\n",
       "    <tr>\n",
       "      <th>60㎡</th>\n",
       "      <td>7567.0</td>\n",
       "      <td>13252.0</td>\n",
       "      <td>8689.0</td>\n",
       "      <td>7883.0</td>\n",
       "      <td>9431.0</td>\n",
       "      <td>11992.0</td>\n",
       "      <td>9176.0</td>\n",
       "      <td>11354.0</td>\n",
       "      <td>23213.0</td>\n",
       "      <td>9324.0</td>\n",
       "      <td>9202.0</td>\n",
       "      <td>11241.0</td>\n",
       "      <td>7210.0</td>\n",
       "      <td>7610.0</td>\n",
       "      <td>14022.0</td>\n",
       "      <td>7911.0</td>\n",
       "      <td>7103.0</td>\n",
       "    </tr>\n",
       "    <tr>\n",
       "      <th>60㎡~85㎡</th>\n",
       "      <td>7486.0</td>\n",
       "      <td>12524.0</td>\n",
       "      <td>8619.0</td>\n",
       "      <td>8061.0</td>\n",
       "      <td>9911.0</td>\n",
       "      <td>11779.0</td>\n",
       "      <td>9711.0</td>\n",
       "      <td>11865.0</td>\n",
       "      <td>22787.0</td>\n",
       "      <td>9775.0</td>\n",
       "      <td>10503.0</td>\n",
       "      <td>11384.0</td>\n",
       "      <td>7269.0</td>\n",
       "      <td>7271.0</td>\n",
       "      <td>10621.0</td>\n",
       "      <td>7819.0</td>\n",
       "      <td>7264.0</td>\n",
       "    </tr>\n",
       "    <tr>\n",
       "      <th>85㎡~102㎡</th>\n",
       "      <td>8750.0</td>\n",
       "      <td>13678.0</td>\n",
       "      <td>10018.0</td>\n",
       "      <td>8774.0</td>\n",
       "      <td>9296.0</td>\n",
       "      <td>11141.0</td>\n",
       "      <td>9037.0</td>\n",
       "      <td>12073.0</td>\n",
       "      <td>25944.0</td>\n",
       "      <td>9848.0</td>\n",
       "      <td>8861.0</td>\n",
       "      <td>11528.0</td>\n",
       "      <td>7909.0</td>\n",
       "      <td>8276.0</td>\n",
       "      <td>10709.0</td>\n",
       "      <td>9120.0</td>\n",
       "      <td>8391.0</td>\n",
       "    </tr>\n",
       "    <tr>\n",
       "      <th>전체</th>\n",
       "      <td>7478.0</td>\n",
       "      <td>12560.0</td>\n",
       "      <td>8659.0</td>\n",
       "      <td>8079.0</td>\n",
       "      <td>9904.0</td>\n",
       "      <td>11771.0</td>\n",
       "      <td>9786.0</td>\n",
       "      <td>11936.0</td>\n",
       "      <td>22610.0</td>\n",
       "      <td>9805.0</td>\n",
       "      <td>10493.0</td>\n",
       "      <td>11257.0</td>\n",
       "      <td>7284.0</td>\n",
       "      <td>7293.0</td>\n",
       "      <td>10785.0</td>\n",
       "      <td>7815.0</td>\n",
       "      <td>7219.0</td>\n",
       "    </tr>\n",
       "  </tbody>\n",
       "</table>\n",
       "</div>"
      ],
      "text/plain": [
       "지역명           강원       경기       경남      경북       광주       대구       대전  \\\n",
       "전용면적                                                                    \n",
       "102㎡~     8311.0  14772.0  10358.0  9157.0  11042.0  13087.0  14877.0   \n",
       "60㎡       7567.0  13252.0   8689.0  7883.0   9431.0  11992.0   9176.0   \n",
       "60㎡~85㎡   7486.0  12524.0   8619.0  8061.0   9911.0  11779.0   9711.0   \n",
       "85㎡~102㎡  8750.0  13678.0  10018.0  8774.0   9296.0  11141.0   9037.0   \n",
       "전체        7478.0  12560.0   8659.0  8079.0   9904.0  11771.0   9786.0   \n",
       "\n",
       "지역명            부산       서울       세종       울산       인천      전남      전북  \\\n",
       "전용면적                                                                    \n",
       "102㎡~     13208.0  23446.0  10107.0   9974.0  14362.0  8168.0  8194.0   \n",
       "60㎡       11354.0  23213.0   9324.0   9202.0  11241.0  7210.0  7610.0   \n",
       "60㎡~85㎡   11865.0  22787.0   9775.0  10503.0  11384.0  7269.0  7271.0   \n",
       "85㎡~102㎡  12073.0  25944.0   9848.0   8861.0  11528.0  7909.0  8276.0   \n",
       "전체        11936.0  22610.0   9805.0  10493.0  11257.0  7284.0  7293.0   \n",
       "\n",
       "지역명            제주      충남      충북  \n",
       "전용면적                               \n",
       "102㎡~     10523.0  8689.0  8195.0  \n",
       "60㎡       14022.0  7911.0  7103.0  \n",
       "60㎡~85㎡   10621.0  7819.0  7264.0  \n",
       "85㎡~102㎡  10709.0  9120.0  8391.0  \n",
       "전체        10785.0  7815.0  7219.0  "
      ]
     },
     "execution_count": 89,
     "metadata": {},
     "output_type": "execute_result"
    }
   ],
   "source": [
    "last_df.groupby(['전용면적', '지역명'])['평당분양가격'].mean().unstack().round()"
   ]
  },
  {
   "cell_type": "code",
   "execution_count": 94,
   "metadata": {},
   "outputs": [
    {
     "data": {
      "text/html": [
       "<div>\n",
       "<style scoped>\n",
       "    .dataframe tbody tr th:only-of-type {\n",
       "        vertical-align: middle;\n",
       "    }\n",
       "\n",
       "    .dataframe tbody tr th {\n",
       "        vertical-align: top;\n",
       "    }\n",
       "\n",
       "    .dataframe thead th {\n",
       "        text-align: right;\n",
       "    }\n",
       "</style>\n",
       "<table border=\"1\" class=\"dataframe\">\n",
       "  <thead>\n",
       "    <tr style=\"text-align: right;\">\n",
       "      <th>지역명</th>\n",
       "      <th>강원</th>\n",
       "      <th>경기</th>\n",
       "      <th>경남</th>\n",
       "      <th>경북</th>\n",
       "      <th>광주</th>\n",
       "      <th>대구</th>\n",
       "      <th>대전</th>\n",
       "      <th>부산</th>\n",
       "      <th>서울</th>\n",
       "      <th>세종</th>\n",
       "      <th>울산</th>\n",
       "      <th>인천</th>\n",
       "      <th>전남</th>\n",
       "      <th>전북</th>\n",
       "      <th>제주</th>\n",
       "      <th>충남</th>\n",
       "      <th>충북</th>\n",
       "    </tr>\n",
       "    <tr>\n",
       "      <th>연도</th>\n",
       "      <th></th>\n",
       "      <th></th>\n",
       "      <th></th>\n",
       "      <th></th>\n",
       "      <th></th>\n",
       "      <th></th>\n",
       "      <th></th>\n",
       "      <th></th>\n",
       "      <th></th>\n",
       "      <th></th>\n",
       "      <th></th>\n",
       "      <th></th>\n",
       "      <th></th>\n",
       "      <th></th>\n",
       "      <th></th>\n",
       "      <th></th>\n",
       "      <th></th>\n",
       "    </tr>\n",
       "  </thead>\n",
       "  <tbody>\n",
       "    <tr>\n",
       "      <th>2015</th>\n",
       "      <td>7188.060000</td>\n",
       "      <td>11060.94</td>\n",
       "      <td>8459.220000</td>\n",
       "      <td>7464.160000</td>\n",
       "      <td>7916.700000</td>\n",
       "      <td>9018.900000</td>\n",
       "      <td>8190.600000</td>\n",
       "      <td>10377.400</td>\n",
       "      <td>20315.680</td>\n",
       "      <td>8765.020000</td>\n",
       "      <td>9367.600000</td>\n",
       "      <td>10976.020000</td>\n",
       "      <td>6798.880000</td>\n",
       "      <td>7110.400000</td>\n",
       "      <td>7951.075000</td>\n",
       "      <td>7689.880000</td>\n",
       "      <td>6828.800</td>\n",
       "    </tr>\n",
       "    <tr>\n",
       "      <th>2016</th>\n",
       "      <td>7162.903846</td>\n",
       "      <td>11684.97</td>\n",
       "      <td>8496.730000</td>\n",
       "      <td>7753.405000</td>\n",
       "      <td>9190.683333</td>\n",
       "      <td>10282.030000</td>\n",
       "      <td>8910.733333</td>\n",
       "      <td>10743.535</td>\n",
       "      <td>21753.435</td>\n",
       "      <td>8857.805000</td>\n",
       "      <td>9582.574138</td>\n",
       "      <td>11099.055000</td>\n",
       "      <td>6936.600000</td>\n",
       "      <td>6906.625000</td>\n",
       "      <td>9567.480000</td>\n",
       "      <td>7958.225000</td>\n",
       "      <td>7133.335</td>\n",
       "    </tr>\n",
       "    <tr>\n",
       "      <th>2017</th>\n",
       "      <td>7273.560000</td>\n",
       "      <td>12304.98</td>\n",
       "      <td>8786.760000</td>\n",
       "      <td>8280.800000</td>\n",
       "      <td>9613.977551</td>\n",
       "      <td>12206.700000</td>\n",
       "      <td>9957.158491</td>\n",
       "      <td>11560.680</td>\n",
       "      <td>21831.060</td>\n",
       "      <td>9132.505556</td>\n",
       "      <td>10666.935714</td>\n",
       "      <td>11640.600000</td>\n",
       "      <td>7372.920000</td>\n",
       "      <td>7398.973585</td>\n",
       "      <td>12566.730000</td>\n",
       "      <td>8198.422222</td>\n",
       "      <td>7473.120</td>\n",
       "    </tr>\n",
       "    <tr>\n",
       "      <th>2018</th>\n",
       "      <td>8219.255000</td>\n",
       "      <td>14258.42</td>\n",
       "      <td>9327.670000</td>\n",
       "      <td>8680.776923</td>\n",
       "      <td>9526.953333</td>\n",
       "      <td>12139.252632</td>\n",
       "      <td>10234.106667</td>\n",
       "      <td>12889.965</td>\n",
       "      <td>23202.245</td>\n",
       "      <td>10340.463158</td>\n",
       "      <td>10241.400000</td>\n",
       "      <td>11881.532143</td>\n",
       "      <td>7929.845000</td>\n",
       "      <td>8174.595000</td>\n",
       "      <td>11935.968000</td>\n",
       "      <td>8201.820000</td>\n",
       "      <td>8149.295</td>\n",
       "    </tr>\n",
       "    <tr>\n",
       "      <th>2019</th>\n",
       "      <td>8934.475000</td>\n",
       "      <td>15665.54</td>\n",
       "      <td>10697.615789</td>\n",
       "      <td>9050.250000</td>\n",
       "      <td>12111.675000</td>\n",
       "      <td>14081.650000</td>\n",
       "      <td>12619.200000</td>\n",
       "      <td>13537.865</td>\n",
       "      <td>28286.830</td>\n",
       "      <td>11299.394118</td>\n",
       "      <td>10216.250000</td>\n",
       "      <td>13249.775000</td>\n",
       "      <td>8219.275862</td>\n",
       "      <td>8532.260000</td>\n",
       "      <td>11828.469231</td>\n",
       "      <td>8748.840000</td>\n",
       "      <td>7970.875</td>\n",
       "    </tr>\n",
       "  </tbody>\n",
       "</table>\n",
       "</div>"
      ],
      "text/plain": [
       "지역명            강원        경기            경남           경북            광주  \\\n",
       "연도                                                                     \n",
       "2015  7188.060000  11060.94   8459.220000  7464.160000   7916.700000   \n",
       "2016  7162.903846  11684.97   8496.730000  7753.405000   9190.683333   \n",
       "2017  7273.560000  12304.98   8786.760000  8280.800000   9613.977551   \n",
       "2018  8219.255000  14258.42   9327.670000  8680.776923   9526.953333   \n",
       "2019  8934.475000  15665.54  10697.615789  9050.250000  12111.675000   \n",
       "\n",
       "지역명             대구            대전         부산         서울            세종  \\\n",
       "연도                                                                     \n",
       "2015   9018.900000   8190.600000  10377.400  20315.680   8765.020000   \n",
       "2016  10282.030000   8910.733333  10743.535  21753.435   8857.805000   \n",
       "2017  12206.700000   9957.158491  11560.680  21831.060   9132.505556   \n",
       "2018  12139.252632  10234.106667  12889.965  23202.245  10340.463158   \n",
       "2019  14081.650000  12619.200000  13537.865  28286.830  11299.394118   \n",
       "\n",
       "지역명             울산            인천           전남           전북            제주  \\\n",
       "연도                                                                         \n",
       "2015   9367.600000  10976.020000  6798.880000  7110.400000   7951.075000   \n",
       "2016   9582.574138  11099.055000  6936.600000  6906.625000   9567.480000   \n",
       "2017  10666.935714  11640.600000  7372.920000  7398.973585  12566.730000   \n",
       "2018  10241.400000  11881.532143  7929.845000  8174.595000  11935.968000   \n",
       "2019  10216.250000  13249.775000  8219.275862  8532.260000  11828.469231   \n",
       "\n",
       "지역명            충남        충북  \n",
       "연도                           \n",
       "2015  7689.880000  6828.800  \n",
       "2016  7958.225000  7133.335  \n",
       "2017  8198.422222  7473.120  \n",
       "2018  8201.820000  8149.295  \n",
       "2019  8748.840000  7970.875  "
      ]
     },
     "execution_count": 94,
     "metadata": {},
     "output_type": "execute_result"
    }
   ],
   "source": [
    "last_df.groupby(['연도', '지역명'])['평당분양가격'].mean().unstack().transpose().T"
   ]
  },
  {
   "cell_type": "code",
   "execution_count": 95,
   "metadata": {},
   "outputs": [
    {
     "name": "stdout",
     "output_type": "stream",
     "text": [
      "\u001b[1;31mSignature:\u001b[0m\n",
      "\u001b[0mpd\u001b[0m\u001b[1;33m.\u001b[0m\u001b[0mpivot_table\u001b[0m\u001b[1;33m(\u001b[0m\u001b[1;33m\n",
      "\u001b[0m    \u001b[0mdata\u001b[0m\u001b[1;33m:\u001b[0m \u001b[1;34m'DataFrame'\u001b[0m\u001b[1;33m,\u001b[0m\u001b[1;33m\n",
      "\u001b[0m    \u001b[0mvalues\u001b[0m\u001b[1;33m=\u001b[0m\u001b[1;32mNone\u001b[0m\u001b[1;33m,\u001b[0m\u001b[1;33m\n",
      "\u001b[0m    \u001b[0mindex\u001b[0m\u001b[1;33m=\u001b[0m\u001b[1;32mNone\u001b[0m\u001b[1;33m,\u001b[0m\u001b[1;33m\n",
      "\u001b[0m    \u001b[0mcolumns\u001b[0m\u001b[1;33m=\u001b[0m\u001b[1;32mNone\u001b[0m\u001b[1;33m,\u001b[0m\u001b[1;33m\n",
      "\u001b[0m    \u001b[0maggfunc\u001b[0m\u001b[1;33m:\u001b[0m \u001b[1;34m'AggFuncType'\u001b[0m \u001b[1;33m=\u001b[0m \u001b[1;34m'mean'\u001b[0m\u001b[1;33m,\u001b[0m\u001b[1;33m\n",
      "\u001b[0m    \u001b[0mfill_value\u001b[0m\u001b[1;33m=\u001b[0m\u001b[1;32mNone\u001b[0m\u001b[1;33m,\u001b[0m\u001b[1;33m\n",
      "\u001b[0m    \u001b[0mmargins\u001b[0m\u001b[1;33m:\u001b[0m \u001b[1;34m'bool'\u001b[0m \u001b[1;33m=\u001b[0m \u001b[1;32mFalse\u001b[0m\u001b[1;33m,\u001b[0m\u001b[1;33m\n",
      "\u001b[0m    \u001b[0mdropna\u001b[0m\u001b[1;33m:\u001b[0m \u001b[1;34m'bool'\u001b[0m \u001b[1;33m=\u001b[0m \u001b[1;32mTrue\u001b[0m\u001b[1;33m,\u001b[0m\u001b[1;33m\n",
      "\u001b[0m    \u001b[0mmargins_name\u001b[0m\u001b[1;33m:\u001b[0m \u001b[1;34m'str'\u001b[0m \u001b[1;33m=\u001b[0m \u001b[1;34m'All'\u001b[0m\u001b[1;33m,\u001b[0m\u001b[1;33m\n",
      "\u001b[0m    \u001b[0mobserved\u001b[0m\u001b[1;33m:\u001b[0m \u001b[1;34m'bool'\u001b[0m \u001b[1;33m=\u001b[0m \u001b[1;32mFalse\u001b[0m\u001b[1;33m,\u001b[0m\u001b[1;33m\n",
      "\u001b[0m    \u001b[0msort\u001b[0m\u001b[1;33m:\u001b[0m \u001b[1;34m'bool'\u001b[0m \u001b[1;33m=\u001b[0m \u001b[1;32mTrue\u001b[0m\u001b[1;33m,\u001b[0m\u001b[1;33m\n",
      "\u001b[0m\u001b[1;33m)\u001b[0m \u001b[1;33m->\u001b[0m \u001b[1;34m'DataFrame'\u001b[0m\u001b[1;33m\u001b[0m\u001b[1;33m\u001b[0m\u001b[0m\n",
      "\u001b[1;31mDocstring:\u001b[0m\n",
      "Create a spreadsheet-style pivot table as a DataFrame.\n",
      "\n",
      "The levels in the pivot table will be stored in MultiIndex objects\n",
      "(hierarchical indexes) on the index and columns of the result DataFrame.\n",
      "\n",
      "Parameters\n",
      "----------\n",
      "data : DataFrame\n",
      "values : column to aggregate, optional\n",
      "index : column, Grouper, array, or list of the previous\n",
      "    If an array is passed, it must be the same length as the data. The\n",
      "    list can contain any of the other types (except list).\n",
      "    Keys to group by on the pivot table index.  If an array is passed,\n",
      "    it is being used as the same manner as column values.\n",
      "columns : column, Grouper, array, or list of the previous\n",
      "    If an array is passed, it must be the same length as the data. The\n",
      "    list can contain any of the other types (except list).\n",
      "    Keys to group by on the pivot table column.  If an array is passed,\n",
      "    it is being used as the same manner as column values.\n",
      "aggfunc : function, list of functions, dict, default numpy.mean\n",
      "    If list of functions passed, the resulting pivot table will have\n",
      "    hierarchical columns whose top level are the function names\n",
      "    (inferred from the function objects themselves)\n",
      "    If dict is passed, the key is column to aggregate and value\n",
      "    is function or list of functions.\n",
      "fill_value : scalar, default None\n",
      "    Value to replace missing values with (in the resulting pivot table,\n",
      "    after aggregation).\n",
      "margins : bool, default False\n",
      "    Add all row / columns (e.g. for subtotal / grand totals).\n",
      "dropna : bool, default True\n",
      "    Do not include columns whose entries are all NaN.\n",
      "margins_name : str, default 'All'\n",
      "    Name of the row / column that will contain the totals\n",
      "    when margins is True.\n",
      "observed : bool, default False\n",
      "    This only applies if any of the groupers are Categoricals.\n",
      "    If True: only show observed values for categorical groupers.\n",
      "    If False: show all values for categorical groupers.\n",
      "\n",
      "    .. versionchanged:: 0.25.0\n",
      "\n",
      "sort : bool, default True\n",
      "    Specifies if the result should be sorted.\n",
      "\n",
      "    .. versionadded:: 1.3.0\n",
      "\n",
      "Returns\n",
      "-------\n",
      "DataFrame\n",
      "    An Excel style pivot table.\n",
      "\n",
      "See Also\n",
      "--------\n",
      "DataFrame.pivot : Pivot without aggregation that can handle\n",
      "    non-numeric data.\n",
      "DataFrame.melt: Unpivot a DataFrame from wide to long format,\n",
      "    optionally leaving identifiers set.\n",
      "wide_to_long : Wide panel to long format. Less flexible but more\n",
      "    user-friendly than melt.\n",
      "\n",
      "Notes\n",
      "-----\n",
      "Reference :ref:`the user guide <reshaping.pivot>` for more examples.\n",
      "\n",
      "Examples\n",
      "--------\n",
      ">>> df = pd.DataFrame({\"A\": [\"foo\", \"foo\", \"foo\", \"foo\", \"foo\",\n",
      "...                          \"bar\", \"bar\", \"bar\", \"bar\"],\n",
      "...                    \"B\": [\"one\", \"one\", \"one\", \"two\", \"two\",\n",
      "...                          \"one\", \"one\", \"two\", \"two\"],\n",
      "...                    \"C\": [\"small\", \"large\", \"large\", \"small\",\n",
      "...                          \"small\", \"large\", \"small\", \"small\",\n",
      "...                          \"large\"],\n",
      "...                    \"D\": [1, 2, 2, 3, 3, 4, 5, 6, 7],\n",
      "...                    \"E\": [2, 4, 5, 5, 6, 6, 8, 9, 9]})\n",
      ">>> df\n",
      "     A    B      C  D  E\n",
      "0  foo  one  small  1  2\n",
      "1  foo  one  large  2  4\n",
      "2  foo  one  large  2  5\n",
      "3  foo  two  small  3  5\n",
      "4  foo  two  small  3  6\n",
      "5  bar  one  large  4  6\n",
      "6  bar  one  small  5  8\n",
      "7  bar  two  small  6  9\n",
      "8  bar  two  large  7  9\n",
      "\n",
      "This first example aggregates values by taking the sum.\n",
      "\n",
      ">>> table = pd.pivot_table(df, values='D', index=['A', 'B'],\n",
      "...                     columns=['C'], aggfunc=np.sum)\n",
      ">>> table\n",
      "C        large  small\n",
      "A   B\n",
      "bar one    4.0    5.0\n",
      "    two    7.0    6.0\n",
      "foo one    4.0    1.0\n",
      "    two    NaN    6.0\n",
      "\n",
      "We can also fill missing values using the `fill_value` parameter.\n",
      "\n",
      ">>> table = pd.pivot_table(df, values='D', index=['A', 'B'],\n",
      "...                     columns=['C'], aggfunc=np.sum, fill_value=0)\n",
      ">>> table\n",
      "C        large  small\n",
      "A   B\n",
      "bar one      4      5\n",
      "    two      7      6\n",
      "foo one      4      1\n",
      "    two      0      6\n",
      "\n",
      "The next example aggregates by taking the mean across multiple columns.\n",
      "\n",
      ">>> table = pd.pivot_table(df, values=['D', 'E'], index=['A', 'C'],\n",
      "...                     aggfunc={'D': np.mean,\n",
      "...                              'E': np.mean})\n",
      ">>> table\n",
      "                D         E\n",
      "A   C\n",
      "bar large  5.500000  7.500000\n",
      "    small  5.500000  8.500000\n",
      "foo large  2.000000  4.500000\n",
      "    small  2.333333  4.333333\n",
      "\n",
      "We can also calculate multiple types of aggregations for any given\n",
      "value column.\n",
      "\n",
      ">>> table = pd.pivot_table(df, values=['D', 'E'], index=['A', 'C'],\n",
      "...                     aggfunc={'D': np.mean,\n",
      "...                              'E': [min, max, np.mean]})\n",
      ">>> table\n",
      "                  D   E\n",
      "               mean max      mean  min\n",
      "A   C\n",
      "bar large  5.500000   9  7.500000    6\n",
      "    small  5.500000   9  8.500000    8\n",
      "foo large  2.000000   5  4.500000    4\n",
      "    small  2.333333   6  4.333333    2\n",
      "\u001b[1;31mFile:\u001b[0m      c:\\users\\admin\\anaconda3\\lib\\site-packages\\pandas\\core\\reshape\\pivot.py\n",
      "\u001b[1;31mType:\u001b[0m      function\n"
     ]
    }
   ],
   "source": [
    "# 지역별 평당 분양가격의 평균\n",
    "pd.pivot_table?"
   ]
  },
  {
   "cell_type": "code",
   "execution_count": 101,
   "metadata": {},
   "outputs": [
    {
     "data": {
      "text/html": [
       "<div>\n",
       "<style scoped>\n",
       "    .dataframe tbody tr th:only-of-type {\n",
       "        vertical-align: middle;\n",
       "    }\n",
       "\n",
       "    .dataframe tbody tr th {\n",
       "        vertical-align: top;\n",
       "    }\n",
       "\n",
       "    .dataframe thead th {\n",
       "        text-align: right;\n",
       "    }\n",
       "</style>\n",
       "<table border=\"1\" class=\"dataframe\">\n",
       "  <thead>\n",
       "    <tr style=\"text-align: right;\">\n",
       "      <th></th>\n",
       "      <th>평당분양가격</th>\n",
       "    </tr>\n",
       "    <tr>\n",
       "      <th>지역명</th>\n",
       "      <th></th>\n",
       "    </tr>\n",
       "  </thead>\n",
       "  <tbody>\n",
       "    <tr>\n",
       "      <th>강원</th>\n",
       "      <td>11873.4</td>\n",
       "    </tr>\n",
       "    <tr>\n",
       "      <th>경기</th>\n",
       "      <td>18711.0</td>\n",
       "    </tr>\n",
       "    <tr>\n",
       "      <th>경남</th>\n",
       "      <td>14199.9</td>\n",
       "    </tr>\n",
       "    <tr>\n",
       "      <th>경북</th>\n",
       "      <td>11408.1</td>\n",
       "    </tr>\n",
       "    <tr>\n",
       "      <th>광주</th>\n",
       "      <td>16107.3</td>\n",
       "    </tr>\n",
       "    <tr>\n",
       "      <th>대구</th>\n",
       "      <td>17021.4</td>\n",
       "    </tr>\n",
       "    <tr>\n",
       "      <th>대전</th>\n",
       "      <td>16094.1</td>\n",
       "    </tr>\n",
       "    <tr>\n",
       "      <th>부산</th>\n",
       "      <td>15255.9</td>\n",
       "    </tr>\n",
       "    <tr>\n",
       "      <th>서울</th>\n",
       "      <td>42002.4</td>\n",
       "    </tr>\n",
       "    <tr>\n",
       "      <th>세종</th>\n",
       "      <td>12972.3</td>\n",
       "    </tr>\n",
       "    <tr>\n",
       "      <th>울산</th>\n",
       "      <td>11860.2</td>\n",
       "    </tr>\n",
       "    <tr>\n",
       "      <th>인천</th>\n",
       "      <td>17120.4</td>\n",
       "    </tr>\n",
       "    <tr>\n",
       "      <th>전남</th>\n",
       "      <td>10074.9</td>\n",
       "    </tr>\n",
       "    <tr>\n",
       "      <th>전북</th>\n",
       "      <td>10071.6</td>\n",
       "    </tr>\n",
       "    <tr>\n",
       "      <th>제주</th>\n",
       "      <td>18024.6</td>\n",
       "    </tr>\n",
       "    <tr>\n",
       "      <th>충남</th>\n",
       "      <td>10563.3</td>\n",
       "    </tr>\n",
       "    <tr>\n",
       "      <th>충북</th>\n",
       "      <td>9421.5</td>\n",
       "    </tr>\n",
       "  </tbody>\n",
       "</table>\n",
       "</div>"
      ],
      "text/plain": [
       "      평당분양가격\n",
       "지역명         \n",
       "강원   11873.4\n",
       "경기   18711.0\n",
       "경남   14199.9\n",
       "경북   11408.1\n",
       "광주   16107.3\n",
       "대구   17021.4\n",
       "대전   16094.1\n",
       "부산   15255.9\n",
       "서울   42002.4\n",
       "세종   12972.3\n",
       "울산   11860.2\n",
       "인천   17120.4\n",
       "전남   10074.9\n",
       "전북   10071.6\n",
       "제주   18024.6\n",
       "충남   10563.3\n",
       "충북    9421.5"
      ]
     },
     "execution_count": 101,
     "metadata": {},
     "output_type": "execute_result"
    }
   ],
   "source": [
    "last_df.pivot_table(index='지역명', values='평당분양가격', aggfunc='max')"
   ]
  },
  {
   "cell_type": "code",
   "execution_count": 102,
   "metadata": {},
   "outputs": [
    {
     "data": {
      "text/html": [
       "<div>\n",
       "<style scoped>\n",
       "    .dataframe tbody tr th:only-of-type {\n",
       "        vertical-align: middle;\n",
       "    }\n",
       "\n",
       "    .dataframe tbody tr th {\n",
       "        vertical-align: top;\n",
       "    }\n",
       "\n",
       "    .dataframe thead th {\n",
       "        text-align: right;\n",
       "    }\n",
       "</style>\n",
       "<table border=\"1\" class=\"dataframe\">\n",
       "  <thead>\n",
       "    <tr style=\"text-align: right;\">\n",
       "      <th></th>\n",
       "      <th>평당분양가격</th>\n",
       "    </tr>\n",
       "    <tr>\n",
       "      <th>전용면적</th>\n",
       "      <th></th>\n",
       "    </tr>\n",
       "  </thead>\n",
       "  <tbody>\n",
       "    <tr>\n",
       "      <th>102㎡~</th>\n",
       "      <td>11517.705634</td>\n",
       "    </tr>\n",
       "    <tr>\n",
       "      <th>60㎡</th>\n",
       "      <td>10375.137421</td>\n",
       "    </tr>\n",
       "    <tr>\n",
       "      <th>60㎡~85㎡</th>\n",
       "      <td>10271.040071</td>\n",
       "    </tr>\n",
       "    <tr>\n",
       "      <th>85㎡~102㎡</th>\n",
       "      <td>11097.599573</td>\n",
       "    </tr>\n",
       "    <tr>\n",
       "      <th>전체</th>\n",
       "      <td>10276.086207</td>\n",
       "    </tr>\n",
       "  </tbody>\n",
       "</table>\n",
       "</div>"
      ],
      "text/plain": [
       "                평당분양가격\n",
       "전용면적                  \n",
       "102㎡~     11517.705634\n",
       "60㎡       10375.137421\n",
       "60㎡~85㎡   10271.040071\n",
       "85㎡~102㎡  11097.599573\n",
       "전체        10276.086207"
      ]
     },
     "execution_count": 102,
     "metadata": {},
     "output_type": "execute_result"
    }
   ],
   "source": [
    "# 전용면적별 평당분양가격의 평균\n",
    "last_df.pivot_table(index='전용면적', values='평당분양가격')"
   ]
  },
  {
   "cell_type": "code",
   "execution_count": 103,
   "metadata": {},
   "outputs": [
    {
     "data": {
      "text/html": [
       "<div>\n",
       "<style scoped>\n",
       "    .dataframe tbody tr th:only-of-type {\n",
       "        vertical-align: middle;\n",
       "    }\n",
       "\n",
       "    .dataframe tbody tr th {\n",
       "        vertical-align: top;\n",
       "    }\n",
       "\n",
       "    .dataframe thead th {\n",
       "        text-align: right;\n",
       "    }\n",
       "</style>\n",
       "<table border=\"1\" class=\"dataframe\">\n",
       "  <thead>\n",
       "    <tr style=\"text-align: right;\">\n",
       "      <th></th>\n",
       "      <th></th>\n",
       "      <th>평당분양가격</th>\n",
       "    </tr>\n",
       "    <tr>\n",
       "      <th>전용면적</th>\n",
       "      <th>지역명</th>\n",
       "      <th></th>\n",
       "    </tr>\n",
       "  </thead>\n",
       "  <tbody>\n",
       "    <tr>\n",
       "      <th rowspan=\"5\" valign=\"top\">102㎡~</th>\n",
       "      <th>강원</th>\n",
       "      <td>8311.380000</td>\n",
       "    </tr>\n",
       "    <tr>\n",
       "      <th>경기</th>\n",
       "      <td>14771.790000</td>\n",
       "    </tr>\n",
       "    <tr>\n",
       "      <th>경남</th>\n",
       "      <td>10358.363265</td>\n",
       "    </tr>\n",
       "    <tr>\n",
       "      <th>경북</th>\n",
       "      <td>9157.302000</td>\n",
       "    </tr>\n",
       "    <tr>\n",
       "      <th>광주</th>\n",
       "      <td>11041.532432</td>\n",
       "    </tr>\n",
       "    <tr>\n",
       "      <th>...</th>\n",
       "      <th>...</th>\n",
       "      <td>...</td>\n",
       "    </tr>\n",
       "    <tr>\n",
       "      <th rowspan=\"5\" valign=\"top\">전체</th>\n",
       "      <th>전남</th>\n",
       "      <td>7283.562000</td>\n",
       "    </tr>\n",
       "    <tr>\n",
       "      <th>전북</th>\n",
       "      <td>7292.604000</td>\n",
       "    </tr>\n",
       "    <tr>\n",
       "      <th>제주</th>\n",
       "      <td>10784.994000</td>\n",
       "    </tr>\n",
       "    <tr>\n",
       "      <th>충남</th>\n",
       "      <td>7815.324000</td>\n",
       "    </tr>\n",
       "    <tr>\n",
       "      <th>충북</th>\n",
       "      <td>7219.014000</td>\n",
       "    </tr>\n",
       "  </tbody>\n",
       "</table>\n",
       "<p>85 rows × 1 columns</p>\n",
       "</div>"
      ],
      "text/plain": [
       "                 평당분양가격\n",
       "전용면적  지역명              \n",
       "102㎡~ 강원    8311.380000\n",
       "      경기   14771.790000\n",
       "      경남   10358.363265\n",
       "      경북    9157.302000\n",
       "      광주   11041.532432\n",
       "...                 ...\n",
       "전체    전남    7283.562000\n",
       "      전북    7292.604000\n",
       "      제주   10784.994000\n",
       "      충남    7815.324000\n",
       "      충북    7219.014000\n",
       "\n",
       "[85 rows x 1 columns]"
      ]
     },
     "execution_count": 103,
     "metadata": {},
     "output_type": "execute_result"
    }
   ],
   "source": [
    "# 전용면적, 지역별 평당 분양가격\n",
    "last_df.pivot_table(index=['전용면적', '지역명'], values='평당분양가격')"
   ]
  },
  {
   "cell_type": "code",
   "execution_count": 105,
   "metadata": {},
   "outputs": [
    {
     "data": {
      "text/html": [
       "<div>\n",
       "<style scoped>\n",
       "    .dataframe tbody tr th:only-of-type {\n",
       "        vertical-align: middle;\n",
       "    }\n",
       "\n",
       "    .dataframe tbody tr th {\n",
       "        vertical-align: top;\n",
       "    }\n",
       "\n",
       "    .dataframe thead th {\n",
       "        text-align: right;\n",
       "    }\n",
       "</style>\n",
       "<table border=\"1\" class=\"dataframe\">\n",
       "  <thead>\n",
       "    <tr style=\"text-align: right;\">\n",
       "      <th></th>\n",
       "      <th>연도</th>\n",
       "      <th>지역명</th>\n",
       "      <th>평당분양가격</th>\n",
       "    </tr>\n",
       "  </thead>\n",
       "  <tbody>\n",
       "    <tr>\n",
       "      <th>0</th>\n",
       "      <td>2015</td>\n",
       "      <td>강원</td>\n",
       "      <td>7188.060000</td>\n",
       "    </tr>\n",
       "    <tr>\n",
       "      <th>1</th>\n",
       "      <td>2015</td>\n",
       "      <td>경기</td>\n",
       "      <td>11060.940000</td>\n",
       "    </tr>\n",
       "    <tr>\n",
       "      <th>2</th>\n",
       "      <td>2015</td>\n",
       "      <td>경남</td>\n",
       "      <td>8459.220000</td>\n",
       "    </tr>\n",
       "    <tr>\n",
       "      <th>3</th>\n",
       "      <td>2015</td>\n",
       "      <td>경북</td>\n",
       "      <td>7464.160000</td>\n",
       "    </tr>\n",
       "    <tr>\n",
       "      <th>4</th>\n",
       "      <td>2015</td>\n",
       "      <td>광주</td>\n",
       "      <td>7916.700000</td>\n",
       "    </tr>\n",
       "    <tr>\n",
       "      <th>...</th>\n",
       "      <td>...</td>\n",
       "      <td>...</td>\n",
       "      <td>...</td>\n",
       "    </tr>\n",
       "    <tr>\n",
       "      <th>80</th>\n",
       "      <td>2019</td>\n",
       "      <td>전남</td>\n",
       "      <td>8219.275862</td>\n",
       "    </tr>\n",
       "    <tr>\n",
       "      <th>81</th>\n",
       "      <td>2019</td>\n",
       "      <td>전북</td>\n",
       "      <td>8532.260000</td>\n",
       "    </tr>\n",
       "    <tr>\n",
       "      <th>82</th>\n",
       "      <td>2019</td>\n",
       "      <td>제주</td>\n",
       "      <td>11828.469231</td>\n",
       "    </tr>\n",
       "    <tr>\n",
       "      <th>83</th>\n",
       "      <td>2019</td>\n",
       "      <td>충남</td>\n",
       "      <td>8748.840000</td>\n",
       "    </tr>\n",
       "    <tr>\n",
       "      <th>84</th>\n",
       "      <td>2019</td>\n",
       "      <td>충북</td>\n",
       "      <td>7970.875000</td>\n",
       "    </tr>\n",
       "  </tbody>\n",
       "</table>\n",
       "<p>85 rows × 3 columns</p>\n",
       "</div>"
      ],
      "text/plain": [
       "      연도 지역명        평당분양가격\n",
       "0   2015  강원   7188.060000\n",
       "1   2015  경기  11060.940000\n",
       "2   2015  경남   8459.220000\n",
       "3   2015  경북   7464.160000\n",
       "4   2015  광주   7916.700000\n",
       "..   ...  ..           ...\n",
       "80  2019  전남   8219.275862\n",
       "81  2019  전북   8532.260000\n",
       "82  2019  제주  11828.469231\n",
       "83  2019  충남   8748.840000\n",
       "84  2019  충북   7970.875000\n",
       "\n",
       "[85 rows x 3 columns]"
      ]
     },
     "execution_count": 105,
     "metadata": {},
     "output_type": "execute_result"
    }
   ],
   "source": [
    "# 연도, 지역별 평당분양가격\n",
    "last_df.pivot_table(index=['연도','지역명'], values='평당분양가격').reset_index()"
   ]
  },
  {
   "cell_type": "code",
   "execution_count": 108,
   "metadata": {},
   "outputs": [
    {
     "data": {
      "text/html": [
       "<div>\n",
       "<style scoped>\n",
       "    .dataframe tbody tr th:only-of-type {\n",
       "        vertical-align: middle;\n",
       "    }\n",
       "\n",
       "    .dataframe tbody tr th {\n",
       "        vertical-align: top;\n",
       "    }\n",
       "\n",
       "    .dataframe thead th {\n",
       "        text-align: right;\n",
       "    }\n",
       "</style>\n",
       "<table border=\"1\" class=\"dataframe\">\n",
       "  <thead>\n",
       "    <tr style=\"text-align: right;\">\n",
       "      <th></th>\n",
       "      <th>지역명</th>\n",
       "      <th>평당분양가격</th>\n",
       "    </tr>\n",
       "    <tr>\n",
       "      <th>연도</th>\n",
       "      <th></th>\n",
       "      <th></th>\n",
       "    </tr>\n",
       "  </thead>\n",
       "  <tbody>\n",
       "    <tr>\n",
       "      <th>2015</th>\n",
       "      <td>강원</td>\n",
       "      <td>7188.060000</td>\n",
       "    </tr>\n",
       "    <tr>\n",
       "      <th>2015</th>\n",
       "      <td>경기</td>\n",
       "      <td>11060.940000</td>\n",
       "    </tr>\n",
       "    <tr>\n",
       "      <th>2015</th>\n",
       "      <td>경남</td>\n",
       "      <td>8459.220000</td>\n",
       "    </tr>\n",
       "    <tr>\n",
       "      <th>2015</th>\n",
       "      <td>경북</td>\n",
       "      <td>7464.160000</td>\n",
       "    </tr>\n",
       "    <tr>\n",
       "      <th>2015</th>\n",
       "      <td>광주</td>\n",
       "      <td>7916.700000</td>\n",
       "    </tr>\n",
       "    <tr>\n",
       "      <th>...</th>\n",
       "      <td>...</td>\n",
       "      <td>...</td>\n",
       "    </tr>\n",
       "    <tr>\n",
       "      <th>2019</th>\n",
       "      <td>전남</td>\n",
       "      <td>8219.275862</td>\n",
       "    </tr>\n",
       "    <tr>\n",
       "      <th>2019</th>\n",
       "      <td>전북</td>\n",
       "      <td>8532.260000</td>\n",
       "    </tr>\n",
       "    <tr>\n",
       "      <th>2019</th>\n",
       "      <td>제주</td>\n",
       "      <td>11828.469231</td>\n",
       "    </tr>\n",
       "    <tr>\n",
       "      <th>2019</th>\n",
       "      <td>충남</td>\n",
       "      <td>8748.840000</td>\n",
       "    </tr>\n",
       "    <tr>\n",
       "      <th>2019</th>\n",
       "      <td>충북</td>\n",
       "      <td>7970.875000</td>\n",
       "    </tr>\n",
       "  </tbody>\n",
       "</table>\n",
       "<p>85 rows × 2 columns</p>\n",
       "</div>"
      ],
      "text/plain": [
       "     지역명        평당분양가격\n",
       "연도                    \n",
       "2015  강원   7188.060000\n",
       "2015  경기  11060.940000\n",
       "2015  경남   8459.220000\n",
       "2015  경북   7464.160000\n",
       "2015  광주   7916.700000\n",
       "...   ..           ...\n",
       "2019  전남   8219.275862\n",
       "2019  전북   8532.260000\n",
       "2019  제주  11828.469231\n",
       "2019  충남   8748.840000\n",
       "2019  충북   7970.875000\n",
       "\n",
       "[85 rows x 2 columns]"
      ]
     },
     "execution_count": 108,
     "metadata": {},
     "output_type": "execute_result"
    }
   ],
   "source": [
    "last_df.pivot_table(index=['연도','지역명'], values='평당분양가격').reset_index().set_index('연도')"
   ]
  },
  {
   "cell_type": "code",
   "execution_count": null,
   "metadata": {},
   "outputs": [],
   "source": []
  }
 ],
 "metadata": {
  "kernelspec": {
   "display_name": "base",
   "language": "python",
   "name": "python3"
  },
  "language_info": {
   "codemirror_mode": {
    "name": "ipython",
    "version": 3
   },
   "file_extension": ".py",
   "mimetype": "text/x-python",
   "name": "python",
   "nbconvert_exporter": "python",
   "pygments_lexer": "ipython3",
   "version": "3.9.13"
  },
  "orig_nbformat": 4
 },
 "nbformat": 4,
 "nbformat_minor": 2
}
