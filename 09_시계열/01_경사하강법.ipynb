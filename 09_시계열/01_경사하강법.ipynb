{
 "cells": [
  {
   "cell_type": "code",
   "execution_count": 36,
   "metadata": {},
   "outputs": [],
   "source": [
    "import numpy as np\n",
    "import matplotlib.pyplot as plt"
   ]
  },
  {
   "cell_type": "code",
   "execution_count": 37,
   "metadata": {},
   "outputs": [
    {
     "data": {
      "text/plain": [
       "<matplotlib.collections.PathCollection at 0x18f6a020250>"
      ]
     },
     "execution_count": 37,
     "metadata": {},
     "output_type": "execute_result"
    },
    {
     "data": {
      "image/png": "[encoded data removed]",
      "text/plain": [
       "<Figure size 640x480 with 1 Axes>"
      ]
     },
     "metadata": {},
     "output_type": "display_data"
    }
   ],
   "source": [
    "np.random.seed(0)\n",
    "X = 2 * np.random.rand(100, 1)\n",
    "# X\n",
    "y = 6 + 4 * X + np.random.randn(100, 1)\n",
    "plt.scatter(X, y)"
   ]
  },
  {
   "cell_type": "code",
   "execution_count": 38,
   "metadata": {},
   "outputs": [],
   "source": [
    "def get_cost(y,y_pred):\n",
    "    N = len(y)\n",
    "    cost = np.sum(np.square(y - y_pred)) / N\n",
    "    return cost"
   ]
  },
  {
   "attachments": {},
   "cell_type": "markdown",
   "metadata": {},
   "source": [
    "![행렬곱](img/%ED%96%89%EB%A0%AC%EA%B3%B1.png)\n",
    "\n",
    "행렬곱에 대한 설명"
   ]
  },
  {
   "cell_type": "code",
   "execution_count": 63,
   "metadata": {},
   "outputs": [],
   "source": [
    "def get_weight_update(w1,w0,X,y,learnig_rate = 0.01):\n",
    "    N = len(y)\n",
    "    w1_update = np.zeros_like(w1)\n",
    "    w0_update = np.zeros_like(w0)\n",
    "    y_pred = np.dot(X,w1.T) - w0\n",
    "    diff = y - y_pred\n",
    "    w0_factors = np.ones((N,1))\n",
    "    w1_update = -(2/N) * learnig_rate * (np.dot(X.T,diff))\n",
    "    w0_update = -(2/N) * learnig_rate * (np.dot(w0_factors.T,diff))\n",
    "    return w1_update,w0_update\n",
    "    \n",
    "    "
   ]
  },
  {
   "cell_type": "code",
   "execution_count": 59,
   "metadata": {},
   "outputs": [],
   "source": [
    "def graduent_descent_steps(X,y,iters = 100):\n",
    "    w0 = np.zeros((1,1))\n",
    "    w1 = np.zeros((1,1))\n",
    "    for ind in range(iters):\n",
    "        w1_update,w0_update = get_weight_update(w1,w0,X,y)\n",
    "        w1 = w1 - w1_update\n",
    "        w0 = w0 - w0_update\n",
    "        return w1,w0"
   ]
  },
  {
   "cell_type": "code",
   "execution_count": 60,
   "metadata": {},
   "outputs": [],
   "source": [
    "w1,w0 = graduent_descent_steps(X,y,iters=1000)"
   ]
  },
  {
   "cell_type": "code",
   "execution_count": 62,
   "metadata": {},
   "outputs": [
    {
     "data": {
      "text/plain": [
       "(array([[0.21502681]]), array([[0.1994937]]))"
      ]
     },
     "execution_count": 62,
     "metadata": {},
     "output_type": "execute_result"
    }
   ],
   "source": [
    "# 4X + 6\n",
    "w1, w0"
   ]
  },
  {
   "cell_type": "code",
   "execution_count": 54,
   "metadata": {},
   "outputs": [
    {
     "data": {
      "text/plain": [
       "array([[0.43551294],\n",
       "       [0.50706348],\n",
       "       [0.45871428],\n",
       "       [0.43382269],\n",
       "       [0.38168798],\n",
       "       [0.47726281],\n",
       "       [0.38767967],\n",
       "       [0.58300392],\n",
       "       [0.61392037],\n",
       "       [0.36439412],\n",
       "       [0.53997793],\n",
       "       [0.42694688],\n",
       "       [0.44378333],\n",
       "       [0.59754989],\n",
       "       [0.23004302],\n",
       "       [0.23696397],\n",
       "       [0.2081887 ],\n",
       "       [0.55756489],\n",
       "       [0.53414283],\n",
       "       [0.57364558],\n",
       "       [0.62035207],\n",
       "       [0.54317474],\n",
       "       [0.39795458],\n",
       "       [0.53516311],\n",
       "       [0.25035805],\n",
       "       [0.47469406],\n",
       "       [0.2611433 ],\n",
       "       [0.605752  ],\n",
       "       [0.42391647],\n",
       "       [0.37782057],\n",
       "       [0.3132668 ],\n",
       "       [0.53245571],\n",
       "       [0.39566281],\n",
       "       [0.44395078],\n",
       "       [0.20757432],\n",
       "       [0.46511009],\n",
       "       [0.46272769],\n",
       "       [0.4648084 ],\n",
       "       [0.60535599],\n",
       "       [0.49271299],\n",
       "       [0.35410138],\n",
       "       [0.38744088],\n",
       "       [0.49951253],\n",
       "       [0.22539388],\n",
       "       [0.48623915],\n",
       "       [0.48790395],\n",
       "       [0.28996948],\n",
       "       [0.25493892],\n",
       "       [0.33514481],\n",
       "       [0.35590884],\n",
       "       [0.44470889],\n",
       "       [0.38811587],\n",
       "       [0.62454746],\n",
       "       [0.24337844],\n",
       "       [0.28932191],\n",
       "       [0.26886544],\n",
       "       [0.48036531],\n",
       "       [0.30842267],\n",
       "       [0.40003234],\n",
       "       [0.30460981],\n",
       "       [0.26785915],\n",
       "       [0.24696093],\n",
       "       [0.48175062],\n",
       "       [0.25891978],\n",
       "       [0.28403466],\n",
       "       [0.3580653 ],\n",
       "       [0.55256482],\n",
       "       [0.24125246],\n",
       "       [0.55985495],\n",
       "       [0.24082117],\n",
       "       [0.61942364],\n",
       "       [0.40103885],\n",
       "       [0.61955335],\n",
       "       [0.45960971],\n",
       "       [0.51741669],\n",
       "       [0.21634655],\n",
       "       [0.32111586],\n",
       "       [0.25118467],\n",
       "       [0.32684987],\n",
       "       [0.25055299],\n",
       "       [0.33624352],\n",
       "       [0.377649  ],\n",
       "       [0.22708056],\n",
       "       [0.49729385],\n",
       "       [0.44316271],\n",
       "       [0.31362541],\n",
       "       [0.42451842],\n",
       "       [0.23989316],\n",
       "       [0.44718158],\n",
       "       [0.5991409 ],\n",
       "       [0.33649543],\n",
       "       [0.48651596],\n",
       "       [0.25617385],\n",
       "       [0.50755281],\n",
       "       [0.32395384],\n",
       "       [0.27827581],\n",
       "       [0.45172572],\n",
       "       [0.20814102],\n",
       "       [0.55598237],\n",
       "       [0.20151301]])"
      ]
     },
     "execution_count": 54,
     "metadata": {},
     "output_type": "execute_result"
    }
   ],
   "source": [
    "y_pred = w1*X + w0\n",
    "y_pred"
   ]
  },
  {
   "cell_type": "code",
   "execution_count": 56,
   "metadata": {},
   "outputs": [
    {
     "data": {
      "text/plain": [
       "97.29699213674446"
      ]
     },
     "execution_count": 56,
     "metadata": {},
     "output_type": "execute_result"
    }
   ],
   "source": [
    "get_cost(y,y_pred)"
   ]
  },
  {
   "cell_type": "code",
   "execution_count": 57,
   "metadata": {},
   "outputs": [
    {
     "data": {
      "text/plain": [
       "[<matplotlib.lines.Line2D at 0x18f6a075f70>]"
      ]
     },
     "execution_count": 57,
     "metadata": {},
     "output_type": "execute_result"
    },
    {
     "data": {
      "image/png": "[encoded data removed]",
      "text/plain": [
       "<Figure size 640x480 with 1 Axes>"
      ]
     },
     "metadata": {},
     "output_type": "display_data"
    }
   ],
   "source": [
    "plt.scatter(X,y)\n",
    "plt.plot(X,y_pred)"
   ]
  },
  {
   "cell_type": "code",
   "execution_count": null,
   "metadata": {},
   "outputs": [],
   "source": []
  }
 ],
 "metadata": {
  "kernelspec": {
   "display_name": "base",
   "language": "python",
   "name": "python3"
  },
  "language_info": {
   "codemirror_mode": {
    "name": "ipython",
    "version": 3
   },
   "file_extension": ".py",
   "mimetype": "text/x-python",
   "name": "python",
   "nbconvert_exporter": "python",
   "pygments_lexer": "ipython3",
   "version": "3.9.13"
  },
  "orig_nbformat": 4
 },
 "nbformat": 4,
 "nbformat_minor": 2
}
