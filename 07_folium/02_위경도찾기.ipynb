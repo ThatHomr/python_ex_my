{
 "cells": [
  {
   "cell_type": "code",
   "execution_count": 1,
   "id": "1443ebb2-faad-49ab-8a1f-4cc729f60347",
   "metadata": {},
   "outputs": [],
   "source": [
    "REST_API_KEY = '6318ba832086a35cb3319c36f7b07471'"
   ]
  },
  {
   "cell_type": "raw",
   "id": "b8d5e80a-e836-4085-8dc9-1d0c32b2d414",
   "metadata": {},
   "source": [
    "curl -v -X GET \"https://dapi.kakao.com/v2/local/search/address.json\" \\\n",
    "  -H \"Authorization: KakaoAK ${REST_API_KEY}\" \\\n",
    "  --data-urlencode \"query=전북 삼성동 100\" "
   ]
  },
  {
   "cell_type": "code",
   "execution_count": 2,
   "id": "20b3f275-6358-4b28-8544-3350160debab",
   "metadata": {},
   "outputs": [],
   "source": [
    "import requests"
   ]
  },
  {
   "cell_type": "code",
   "execution_count": 7,
   "id": "6a1d85f6-638e-4fc5-b6b8-c4b0652459a2",
   "metadata": {},
   "outputs": [
    {
     "data": {
      "text/plain": [
       "{'documents': [{'address': {'address_name': '전북 익산시 부송동 100',\n",
       "    'b_code': '4514013400',\n",
       "    'h_code': '4514069000',\n",
       "    'main_address_no': '100',\n",
       "    'mountain_yn': 'N',\n",
       "    'region_1depth_name': '전북',\n",
       "    'region_2depth_name': '익산시',\n",
       "    'region_3depth_h_name': '삼성동',\n",
       "    'region_3depth_name': '부송동',\n",
       "    'sub_address_no': '',\n",
       "    'x': '126.99597495347',\n",
       "    'y': '35.9766482774579'},\n",
       "   'address_name': '전북 익산시 부송동 100',\n",
       "   'address_type': 'REGION_ADDR',\n",
       "   'road_address': None,\n",
       "   'x': '126.99597495347',\n",
       "   'y': '35.9766482774579'},\n",
       "  {'address': {'address_name': '전북 익산시 임상동 100',\n",
       "    'b_code': '4514013200',\n",
       "    'h_code': '4514069000',\n",
       "    'main_address_no': '100',\n",
       "    'mountain_yn': 'N',\n",
       "    'region_1depth_name': '전북',\n",
       "    'region_2depth_name': '익산시',\n",
       "    'region_3depth_h_name': '삼성동',\n",
       "    'region_3depth_name': '임상동',\n",
       "    'sub_address_no': '',\n",
       "    'x': '126.980268573424',\n",
       "    'y': '35.9816612949055'},\n",
       "   'address_name': '전북 익산시 임상동 100',\n",
       "   'address_type': 'REGION_ADDR',\n",
       "   'road_address': None,\n",
       "   'x': '126.980268573424',\n",
       "   'y': '35.9816612949055'},\n",
       "  {'address': {'address_name': '전북 익산시 정족동 100',\n",
       "    'b_code': '4514013100',\n",
       "    'h_code': '4514069000',\n",
       "    'main_address_no': '100',\n",
       "    'mountain_yn': 'N',\n",
       "    'region_1depth_name': '전북',\n",
       "    'region_2depth_name': '익산시',\n",
       "    'region_3depth_h_name': '삼성동',\n",
       "    'region_3depth_name': '정족동',\n",
       "    'sub_address_no': '',\n",
       "    'x': '127.002020445866',\n",
       "    'y': '35.9829740190924'},\n",
       "   'address_name': '전북 익산시 정족동 100',\n",
       "   'address_type': 'REGION_ADDR',\n",
       "   'road_address': None,\n",
       "   'x': '127.002020445866',\n",
       "   'y': '35.9829740190924'}],\n",
       " 'meta': {'is_end': True, 'pageable_count': 3, 'total_count': 3}}"
      ]
     },
     "execution_count": 7,
     "metadata": {},
     "output_type": "execute_result"
    }
   ],
   "source": [
    "url = \"https://dapi.kakao.com/v2/local/search/address.json?query={}\".format('전북 삼성동 100')\n",
    "headers = {'Authorization':f'KakaoAK {REST_API_KEY}'}\n",
    "res = requests.get(url, headers = headers)\n",
    "jsondata = res.json()\n",
    "jsondata"
   ]
  },
  {
   "cell_type": "code",
   "execution_count": 10,
   "id": "62281d87-9799-41a6-aa1e-ed7b67b342ca",
   "metadata": {},
   "outputs": [
    {
     "data": {
      "text/plain": [
       "('35.9766482774579', '126.99597495347')"
      ]
     },
     "execution_count": 10,
     "metadata": {},
     "output_type": "execute_result"
    }
   ],
   "source": [
    "jsondata['documents'][0]['address']['y'],jsondata['documents'][0]['address']['x']"
   ]
  },
  {
   "cell_type": "raw",
   "id": "f7637b4f-061e-4841-a817-7d16b062aa4c",
   "metadata": {},
   "source": [
    "curl -v -X GET \"https://dapi.kakao.com/v2/local/search/keyword.json?y=37.514322572335935&x=127.06283102249932&radius=20000\" \\\n",
    "  -H \"Authorization: KakaoAK ${REST_API_KEY}\" \\\n",
    "  --data-urlencode \"query=카카오프렌즈\" "
   ]
  },
  {
   "cell_type": "code",
   "execution_count": 15,
   "id": "aede2d83-defe-4a05-9290-6940464329ca",
   "metadata": {},
   "outputs": [],
   "source": [
    "query = '카카오프랜즈'\n",
    "y=37.514322572335935\n",
    "x=127.06283102249932\n",
    "radius=2000\n",
    "\n",
    "url = f\"https://dapi.kakao.com/v2/local/search/keyword.json?category_group_code=&radius={radius}&query={query}\"\n",
    "headers = {'Authorization':f'KakaoAK {REST_API_KEY}'}\n",
    "res = requests.get(url, headers = headers)\n",
    "jsondata = res.json()"
   ]
  },
  {
   "cell_type": "code",
   "execution_count": 16,
   "id": "a301ec53-27d2-48d1-9a44-126d79e84d93",
   "metadata": {},
   "outputs": [
    {
     "data": {
      "text/plain": [
       "{'documents': [{'address_name': '서울 강남구 삼성동 159',\n",
       "   'category_group_code': '',\n",
       "   'category_group_name': '',\n",
       "   'category_name': '가정,생활 > 문구,사무용품 > 디자인문구 > 카카오프렌즈',\n",
       "   'distance': '418',\n",
       "   'id': '26338954',\n",
       "   'phone': '02-6002-1880',\n",
       "   'place_name': '카카오프렌즈 스타필드 코엑스몰점',\n",
       "   'place_url': 'http://place.map.kakao.com/26338954',\n",
       "   'road_address_name': '서울 강남구 영동대로 513',\n",
       "   'x': '127.059028716089',\n",
       "   'y': '37.5120756277877'}],\n",
       " 'meta': {'is_end': True,\n",
       "  'pageable_count': 1,\n",
       "  'same_name': {'keyword': '카카오프랜즈', 'region': [], 'selected_region': ''},\n",
       "  'total_count': 1}}"
      ]
     },
     "execution_count": 16,
     "metadata": {},
     "output_type": "execute_result"
    }
   ],
   "source": [
    "jsondata"
   ]
  },
  {
   "cell_type": "code",
   "execution_count": 17,
   "id": "5d85695c-4b20-42f0-a239-820e625b1329",
   "metadata": {},
   "outputs": [
    {
     "name": "stdout",
     "output_type": "stream",
     "text": [
      "Collecting geopy\n",
      "  Downloading geopy-2.3.0-py3-none-any.whl (119 kB)\n",
      "     -------------------------------------- 119.8/119.8 kB 2.3 MB/s eta 0:00:00\n",
      "Collecting geographiclib<3,>=1.52\n",
      "  Downloading geographiclib-2.0-py3-none-any.whl (40 kB)\n",
      "     ---------------------------------------- 40.3/40.3 kB 2.0 MB/s eta 0:00:00\n",
      "Installing collected packages: geographiclib, geopy\n",
      "Successfully installed geographiclib-2.0 geopy-2.3.0\n"
     ]
    },
    {
     "name": "stderr",
     "output_type": "stream",
     "text": [
      "WARNING: Ignoring invalid distribution -istune (c:\\users\\admin\\anaconda3\\lib\\site-packages)\n",
      "WARNING: Ignoring invalid distribution -istune (c:\\users\\admin\\anaconda3\\lib\\site-packages)\n",
      "WARNING: Ignoring invalid distribution -istune (c:\\users\\admin\\anaconda3\\lib\\site-packages)\n",
      "WARNING: Ignoring invalid distribution -istune (c:\\users\\admin\\anaconda3\\lib\\site-packages)\n",
      "WARNING: Ignoring invalid distribution -istune (c:\\users\\admin\\anaconda3\\lib\\site-packages)\n",
      "WARNING: Ignoring invalid distribution -istune (c:\\users\\admin\\anaconda3\\lib\\site-packages)\n",
      "WARNING: Ignoring invalid distribution -istune (c:\\users\\admin\\anaconda3\\lib\\site-packages)\n",
      "WARNING: Ignoring invalid distribution -istune (c:\\users\\admin\\anaconda3\\lib\\site-packages)\n"
     ]
    }
   ],
   "source": [
    "!pip install geopy"
   ]
  },
  {
   "cell_type": "code",
   "execution_count": 18,
   "id": "dbc461e1-ed05-4420-b445-1ff8fb07acbc",
   "metadata": {},
   "outputs": [],
   "source": [
    "import geopy"
   ]
  },
  {
   "cell_type": "code",
   "execution_count": 34,
   "id": "dc7864e1-2a80-4303-982f-bab6e312741b",
   "metadata": {},
   "outputs": [],
   "source": [
    "service = geopy.Nominatim(user_agent = 'chiricuto')"
   ]
  },
  {
   "cell_type": "code",
   "execution_count": 35,
   "id": "28c1ce08-03ba-4c1c-80cd-537680774b16",
   "metadata": {},
   "outputs": [],
   "source": [
    "result = service.geocode('광주광역시 광산구 소촌로152번길 37')"
   ]
  },
  {
   "cell_type": "code",
   "execution_count": 36,
   "id": "9b496ee9-a26a-4a99-860c-80f600d14223",
   "metadata": {},
   "outputs": [
    {
     "data": {
      "text/plain": [
       "35.158271150000004"
      ]
     },
     "execution_count": 36,
     "metadata": {},
     "output_type": "execute_result"
    }
   ],
   "source": [
    "result.latitude"
   ]
  },
  {
   "cell_type": "code",
   "execution_count": 37,
   "id": "b55715b1-a973-4220-a69b-b4c666707b58",
   "metadata": {},
   "outputs": [
    {
     "data": {
      "text/plain": [
       "126.795781369881"
      ]
     },
     "execution_count": 37,
     "metadata": {},
     "output_type": "execute_result"
    }
   ],
   "source": [
    "result.longitude"
   ]
  },
  {
   "cell_type": "code",
   "execution_count": null,
   "id": "05bef93f-c80f-439a-8992-376e6c62c126",
   "metadata": {},
   "outputs": [],
   "source": []
  }
 ],
 "metadata": {
  "kernelspec": {
   "display_name": "Python 3 (ipykernel)",
   "language": "python",
   "name": "python3"
  },
  "language_info": {
   "codemirror_mode": {
    "name": "ipython",
    "version": 3
   },
   "file_extension": ".py",
   "mimetype": "text/x-python",
   "name": "python",
   "nbconvert_exporter": "python",
   "pygments_lexer": "ipython3",
   "version": "3.9.13"
  }
 },
 "nbformat": 4,
 "nbformat_minor": 5
}
