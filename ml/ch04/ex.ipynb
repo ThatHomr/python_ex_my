{
 "cells": [
  {
   "cell_type": "code",
   "execution_count": 1,
   "metadata": {},
   "outputs": [],
   "source": [
    "import pandas as pd\n",
    "import numpy as np\n"
   ]
  },
  {
   "cell_type": "code",
   "execution_count": 2,
   "metadata": {},
   "outputs": [],
   "source": [
    "cust_df = pd.read_csv('./santander_train.csv')"
   ]
  },
  {
   "cell_type": "code",
   "execution_count": 3,
   "metadata": {},
   "outputs": [
    {
     "data": {
      "text/plain": [
       "0.0395685345961589"
      ]
     },
     "execution_count": 3,
     "metadata": {},
     "output_type": "execute_result"
    }
   ],
   "source": [
    "un_cnt = cust_df[cust_df['TARGET'] == 1].TARGET.count()\n",
    "total_cnt = cust_df.TARGET.count()\n",
    "\n",
    "un_cnt/total_cnt"
   ]
  },
  {
   "cell_type": "code",
   "execution_count": 4,
   "metadata": {},
   "outputs": [],
   "source": [
    "cust_df['var3'].replace(-999999,2,inplace=True)"
   ]
  },
  {
   "cell_type": "code",
   "execution_count": 5,
   "metadata": {},
   "outputs": [],
   "source": [
    "cust_df.drop(columns='ID', inplace=True)"
   ]
  },
  {
   "cell_type": "code",
   "execution_count": 6,
   "metadata": {},
   "outputs": [],
   "source": [
    "x = cust_df.iloc[:,:-1]\n",
    "y = cust_df.iloc[:, -1]"
   ]
  },
  {
   "cell_type": "code",
   "execution_count": 7,
   "metadata": {},
   "outputs": [],
   "source": [
    "from sklearn.model_selection import train_test_split"
   ]
  },
  {
   "cell_type": "code",
   "execution_count": 8,
   "metadata": {},
   "outputs": [],
   "source": [
    "x_train, x_test, y_train, y_test = train_test_split(x,\n",
    "                                                    y,\n",
    "                                                    train_size=0.2,\n",
    "                                                    random_state=0,\n",
    "                                                    stratify=y)"
   ]
  },
  {
   "cell_type": "code",
   "execution_count": 9,
   "metadata": {},
   "outputs": [
    {
     "data": {
      "text/plain": [
       "0    0.960405\n",
       "1    0.039595\n",
       "Name: TARGET, dtype: float64"
      ]
     },
     "execution_count": 9,
     "metadata": {},
     "output_type": "execute_result"
    }
   ],
   "source": [
    "train_cnt = y_train.count()\n",
    "test_cnt = y_test.count()\n",
    "y_train.value_counts()/train_cnt"
   ]
  },
  {
   "cell_type": "code",
   "execution_count": 10,
   "metadata": {},
   "outputs": [
    {
     "data": {
      "text/plain": [
       "0    0.960438\n",
       "1    0.039562\n",
       "Name: TARGET, dtype: float64"
      ]
     },
     "execution_count": 10,
     "metadata": {},
     "output_type": "execute_result"
    }
   ],
   "source": [
    "y_test.value_counts()/test_cnt"
   ]
  },
  {
   "cell_type": "code",
   "execution_count": 16,
   "metadata": {},
   "outputs": [],
   "source": [
    "from sklearn.ensemble import VotingClassifier\n",
    "from sklearn.linear_model import LogisticRegression\n",
    "from sklearn.neighbors import KNeighborsClassifier\n",
    "from sklearn.datasets import load_breast_cancer\n",
    "from sklearn.model_selection import train_test_split\n",
    "from sklearn.metrics import accuracy_score\n",
    "from sklearn.model_selection import GridSearchCV\n",
    "from sklearn.ensemble import RandomForestClassifier"
   ]
  },
  {
   "cell_type": "code",
   "execution_count": 17,
   "metadata": {},
   "outputs": [],
   "source": [
    "param = {\n",
    "    'n_estimators': [100],\n",
    "    'max_depth': [6,8,10,12],\n",
    "    'min_samples_split': [8, 16, 20]\n",
    "}"
   ]
  },
  {
   "cell_type": "code",
   "execution_count": 18,
   "metadata": {},
   "outputs": [
    {
     "name": "stdout",
     "output_type": "stream",
     "text": [
      "최적의 하이퍼 파라메터: {'max_depth': 6, 'min_samples_split': 8, 'n_estimators': 100}\n",
      "최고의 예측 정확도 : 0.9604\n"
     ]
    }
   ],
   "source": [
    "rf_clf = RandomForestClassifier(random_state=0, n_jobs=1)\n",
    "grid_cv = GridSearchCV(rf_clf, param_grid=param, cv=2, n_jobs=-1)\n",
    "grid_cv.fit(x_train, y_train)\n",
    "\n",
    "print(f'최적의 하이퍼 파라메터: {grid_cv.best_params_}')\n",
    "print(f'최고의 예측 정확도 : {grid_cv.best_score_:.4f}')"
   ]
  },
  {
   "cell_type": "code",
   "execution_count": 19,
   "metadata": {},
   "outputs": [],
   "source": [
    "from lightgbm import LGBMClassifier"
   ]
  },
  {
   "cell_type": "code",
   "execution_count": 23,
   "metadata": {},
   "outputs": [
    {
     "name": "stderr",
     "output_type": "stream",
     "text": [
      "c:\\Users\\admin\\anaconda3\\lib\\site-packages\\lightgbm\\sklearn.py:726: UserWarning: 'early_stopping_rounds' argument is deprecated and will be removed in a future release of LightGBM. Pass 'early_stopping()' callback via 'callbacks' argument instead.\n",
      "  _log_warning(\"'early_stopping_rounds' argument is deprecated and will be removed in a future release of LightGBM. \"\n",
      "c:\\Users\\admin\\anaconda3\\lib\\site-packages\\lightgbm\\sklearn.py:736: UserWarning: 'verbose' argument is deprecated and will be removed in a future release of LightGBM. Pass 'log_evaluation()' callback via 'callbacks' argument instead.\n",
      "  _log_warning(\"'verbose' argument is deprecated and will be removed in a future release of LightGBM. \"\n"
     ]
    },
    {
     "name": "stdout",
     "output_type": "stream",
     "text": [
      "[1]\ttraining's auc: 0.836215\ttraining's binary_logloss: 0.156312\tvalid_1's auc: 0.802702\tvalid_1's binary_logloss: 0.158829\n",
      "[2]\ttraining's auc: 0.852889\ttraining's binary_logloss: 0.149975\tvalid_1's auc: 0.811895\tvalid_1's binary_logloss: 0.15411\n",
      "[3]\ttraining's auc: 0.856466\ttraining's binary_logloss: 0.145111\tvalid_1's auc: 0.813925\tvalid_1's binary_logloss: 0.150822\n",
      "[4]\ttraining's auc: 0.863248\ttraining's binary_logloss: 0.141269\tvalid_1's auc: 0.81805\tvalid_1's binary_logloss: 0.148204\n",
      "[5]\ttraining's auc: 0.870651\ttraining's binary_logloss: 0.138317\tvalid_1's auc: 0.820468\tvalid_1's binary_logloss: 0.146222\n",
      "[6]\ttraining's auc: 0.873427\ttraining's binary_logloss: 0.135534\tvalid_1's auc: 0.821971\tvalid_1's binary_logloss: 0.144559\n",
      "[7]\ttraining's auc: 0.876686\ttraining's binary_logloss: 0.133222\tvalid_1's auc: 0.825299\tvalid_1's binary_logloss: 0.143123\n",
      "[8]\ttraining's auc: 0.882148\ttraining's binary_logloss: 0.131248\tvalid_1's auc: 0.826931\tvalid_1's binary_logloss: 0.141946\n",
      "[9]\ttraining's auc: 0.885329\ttraining's binary_logloss: 0.129591\tvalid_1's auc: 0.824168\tvalid_1's binary_logloss: 0.141066\n",
      "[10]\ttraining's auc: 0.888382\ttraining's binary_logloss: 0.128101\tvalid_1's auc: 0.825357\tvalid_1's binary_logloss: 0.140294\n",
      "[11]\ttraining's auc: 0.890137\ttraining's binary_logloss: 0.126727\tvalid_1's auc: 0.825397\tvalid_1's binary_logloss: 0.139698\n",
      "[12]\ttraining's auc: 0.892275\ttraining's binary_logloss: 0.125451\tvalid_1's auc: 0.825994\tvalid_1's binary_logloss: 0.139111\n",
      "[13]\ttraining's auc: 0.894098\ttraining's binary_logloss: 0.124302\tvalid_1's auc: 0.825681\tvalid_1's binary_logloss: 0.138695\n",
      "[14]\ttraining's auc: 0.895767\ttraining's binary_logloss: 0.123249\tvalid_1's auc: 0.825845\tvalid_1's binary_logloss: 0.138327\n",
      "[15]\ttraining's auc: 0.898063\ttraining's binary_logloss: 0.122188\tvalid_1's auc: 0.827312\tvalid_1's binary_logloss: 0.137878\n",
      "[16]\ttraining's auc: 0.901774\ttraining's binary_logloss: 0.120982\tvalid_1's auc: 0.827793\tvalid_1's binary_logloss: 0.137627\n",
      "[17]\ttraining's auc: 0.903432\ttraining's binary_logloss: 0.120087\tvalid_1's auc: 0.828331\tvalid_1's binary_logloss: 0.137412\n",
      "[18]\ttraining's auc: 0.905223\ttraining's binary_logloss: 0.119189\tvalid_1's auc: 0.828938\tvalid_1's binary_logloss: 0.13718\n",
      "[19]\ttraining's auc: 0.907058\ttraining's binary_logloss: 0.118234\tvalid_1's auc: 0.82937\tvalid_1's binary_logloss: 0.137029\n",
      "[20]\ttraining's auc: 0.908744\ttraining's binary_logloss: 0.11745\tvalid_1's auc: 0.829541\tvalid_1's binary_logloss: 0.136887\n",
      "[21]\ttraining's auc: 0.909934\ttraining's binary_logloss: 0.116757\tvalid_1's auc: 0.829486\tvalid_1's binary_logloss: 0.136808\n",
      "[22]\ttraining's auc: 0.91204\ttraining's binary_logloss: 0.115896\tvalid_1's auc: 0.829345\tvalid_1's binary_logloss: 0.136737\n",
      "[23]\ttraining's auc: 0.913938\ttraining's binary_logloss: 0.115134\tvalid_1's auc: 0.829659\tvalid_1's binary_logloss: 0.13667\n",
      "[24]\ttraining's auc: 0.914717\ttraining's binary_logloss: 0.11468\tvalid_1's auc: 0.829303\tvalid_1's binary_logloss: 0.136642\n",
      "[25]\ttraining's auc: 0.915734\ttraining's binary_logloss: 0.114091\tvalid_1's auc: 0.82931\tvalid_1's binary_logloss: 0.136606\n",
      "[26]\ttraining's auc: 0.916734\ttraining's binary_logloss: 0.113647\tvalid_1's auc: 0.829022\tvalid_1's binary_logloss: 0.136576\n",
      "[27]\ttraining's auc: 0.918147\ttraining's binary_logloss: 0.112931\tvalid_1's auc: 0.828653\tvalid_1's binary_logloss: 0.136607\n",
      "[28]\ttraining's auc: 0.918603\ttraining's binary_logloss: 0.112683\tvalid_1's auc: 0.828616\tvalid_1's binary_logloss: 0.136574\n",
      "[29]\ttraining's auc: 0.918841\ttraining's binary_logloss: 0.112346\tvalid_1's auc: 0.828554\tvalid_1's binary_logloss: 0.136591\n",
      "[30]\ttraining's auc: 0.919489\ttraining's binary_logloss: 0.112027\tvalid_1's auc: 0.828405\tvalid_1's binary_logloss: 0.136598\n",
      "[31]\ttraining's auc: 0.920445\ttraining's binary_logloss: 0.11146\tvalid_1's auc: 0.828443\tvalid_1's binary_logloss: 0.136587\n",
      "[32]\ttraining's auc: 0.921141\ttraining's binary_logloss: 0.111093\tvalid_1's auc: 0.828242\tvalid_1's binary_logloss: 0.136645\n",
      "[33]\ttraining's auc: 0.921952\ttraining's binary_logloss: 0.110751\tvalid_1's auc: 0.828195\tvalid_1's binary_logloss: 0.136672\n",
      "[34]\ttraining's auc: 0.922124\ttraining's binary_logloss: 0.110618\tvalid_1's auc: 0.828146\tvalid_1's binary_logloss: 0.136682\n",
      "[35]\ttraining's auc: 0.922435\ttraining's binary_logloss: 0.1104\tvalid_1's auc: 0.827929\tvalid_1's binary_logloss: 0.136721\n",
      "[36]\ttraining's auc: 0.92297\ttraining's binary_logloss: 0.110137\tvalid_1's auc: 0.827964\tvalid_1's binary_logloss: 0.136737\n",
      "[37]\ttraining's auc: 0.923662\ttraining's binary_logloss: 0.109627\tvalid_1's auc: 0.828101\tvalid_1's binary_logloss: 0.136724\n",
      "[38]\ttraining's auc: 0.92428\ttraining's binary_logloss: 0.109352\tvalid_1's auc: 0.828007\tvalid_1's binary_logloss: 0.136754\n",
      "[39]\ttraining's auc: 0.924419\ttraining's binary_logloss: 0.109233\tvalid_1's auc: 0.828141\tvalid_1's binary_logloss: 0.136744\n",
      "[40]\ttraining's auc: 0.924639\ttraining's binary_logloss: 0.109022\tvalid_1's auc: 0.827994\tvalid_1's binary_logloss: 0.136794\n",
      "[41]\ttraining's auc: 0.925457\ttraining's binary_logloss: 0.108702\tvalid_1's auc: 0.828191\tvalid_1's binary_logloss: 0.136772\n",
      "[42]\ttraining's auc: 0.925965\ttraining's binary_logloss: 0.10843\tvalid_1's auc: 0.827856\tvalid_1's binary_logloss: 0.136861\n",
      "[43]\ttraining's auc: 0.926253\ttraining's binary_logloss: 0.108274\tvalid_1's auc: 0.827881\tvalid_1's binary_logloss: 0.136858\n",
      "[44]\ttraining's auc: 0.926412\ttraining's binary_logloss: 0.108146\tvalid_1's auc: 0.827952\tvalid_1's binary_logloss: 0.136852\n",
      "[45]\ttraining's auc: 0.926663\ttraining's binary_logloss: 0.107978\tvalid_1's auc: 0.827893\tvalid_1's binary_logloss: 0.136852\n",
      "[46]\ttraining's auc: 0.927735\ttraining's binary_logloss: 0.107466\tvalid_1's auc: 0.827996\tvalid_1's binary_logloss: 0.136854\n",
      "[47]\ttraining's auc: 0.928153\ttraining's binary_logloss: 0.107291\tvalid_1's auc: 0.827858\tvalid_1's binary_logloss: 0.136901\n",
      "[48]\ttraining's auc: 0.928271\ttraining's binary_logloss: 0.107192\tvalid_1's auc: 0.827973\tvalid_1's binary_logloss: 0.136879\n",
      "[49]\ttraining's auc: 0.928621\ttraining's binary_logloss: 0.106987\tvalid_1's auc: 0.827855\tvalid_1's binary_logloss: 0.136922\n",
      "[50]\ttraining's auc: 0.928746\ttraining's binary_logloss: 0.106882\tvalid_1's auc: 0.827781\tvalid_1's binary_logloss: 0.136946\n",
      "[51]\ttraining's auc: 0.929054\ttraining's binary_logloss: 0.106698\tvalid_1's auc: 0.82767\tvalid_1's binary_logloss: 0.136965\n",
      "[52]\ttraining's auc: 0.929478\ttraining's binary_logloss: 0.106367\tvalid_1's auc: 0.827406\tvalid_1's binary_logloss: 0.13703\n",
      "[53]\ttraining's auc: 0.929959\ttraining's binary_logloss: 0.106031\tvalid_1's auc: 0.827541\tvalid_1's binary_logloss: 0.137072\n",
      "[54]\ttraining's auc: 0.930444\ttraining's binary_logloss: 0.105821\tvalid_1's auc: 0.827542\tvalid_1's binary_logloss: 0.137082\n",
      "[55]\ttraining's auc: 0.930725\ttraining's binary_logloss: 0.105708\tvalid_1's auc: 0.827549\tvalid_1's binary_logloss: 0.137079\n",
      "[56]\ttraining's auc: 0.93094\ttraining's binary_logloss: 0.105586\tvalid_1's auc: 0.8276\tvalid_1's binary_logloss: 0.137077\n",
      "[57]\ttraining's auc: 0.931435\ttraining's binary_logloss: 0.105294\tvalid_1's auc: 0.827634\tvalid_1's binary_logloss: 0.137092\n",
      "[58]\ttraining's auc: 0.93211\ttraining's binary_logloss: 0.104916\tvalid_1's auc: 0.827422\tvalid_1's binary_logloss: 0.137148\n",
      "[59]\ttraining's auc: 0.932399\ttraining's binary_logloss: 0.104703\tvalid_1's auc: 0.827477\tvalid_1's binary_logloss: 0.137152\n",
      "[60]\ttraining's auc: 0.932627\ttraining's binary_logloss: 0.10459\tvalid_1's auc: 0.827303\tvalid_1's binary_logloss: 0.137197\n",
      "[61]\ttraining's auc: 0.933119\ttraining's binary_logloss: 0.104314\tvalid_1's auc: 0.827008\tvalid_1's binary_logloss: 0.137281\n",
      "[62]\ttraining's auc: 0.93323\ttraining's binary_logloss: 0.1042\tvalid_1's auc: 0.827008\tvalid_1's binary_logloss: 0.137291\n",
      "[63]\ttraining's auc: 0.93331\ttraining's binary_logloss: 0.104114\tvalid_1's auc: 0.826988\tvalid_1's binary_logloss: 0.137312\n",
      "[64]\ttraining's auc: 0.933366\ttraining's binary_logloss: 0.104037\tvalid_1's auc: 0.826897\tvalid_1's binary_logloss: 0.137349\n",
      "[65]\ttraining's auc: 0.933818\ttraining's binary_logloss: 0.10373\tvalid_1's auc: 0.826821\tvalid_1's binary_logloss: 0.137397\n",
      "[66]\ttraining's auc: 0.93401\ttraining's binary_logloss: 0.103595\tvalid_1's auc: 0.826675\tvalid_1's binary_logloss: 0.137442\n",
      "[67]\ttraining's auc: 0.934934\ttraining's binary_logloss: 0.103111\tvalid_1's auc: 0.826781\tvalid_1's binary_logloss: 0.1375\n",
      "[68]\ttraining's auc: 0.935344\ttraining's binary_logloss: 0.102935\tvalid_1's auc: 0.826901\tvalid_1's binary_logloss: 0.1375\n",
      "[69]\ttraining's auc: 0.935672\ttraining's binary_logloss: 0.102672\tvalid_1's auc: 0.826618\tvalid_1's binary_logloss: 0.137584\n",
      "[70]\ttraining's auc: 0.936086\ttraining's binary_logloss: 0.102434\tvalid_1's auc: 0.826613\tvalid_1's binary_logloss: 0.137616\n",
      "[71]\ttraining's auc: 0.936175\ttraining's binary_logloss: 0.102332\tvalid_1's auc: 0.826463\tvalid_1's binary_logloss: 0.137667\n",
      "[72]\ttraining's auc: 0.93624\ttraining's binary_logloss: 0.102251\tvalid_1's auc: 0.826423\tvalid_1's binary_logloss: 0.13768\n",
      "[73]\ttraining's auc: 0.936388\ttraining's binary_logloss: 0.10205\tvalid_1's auc: 0.826549\tvalid_1's binary_logloss: 0.13771\n",
      "[74]\ttraining's auc: 0.936596\ttraining's binary_logloss: 0.10186\tvalid_1's auc: 0.826177\tvalid_1's binary_logloss: 0.137809\n",
      "[75]\ttraining's auc: 0.937174\ttraining's binary_logloss: 0.101435\tvalid_1's auc: 0.826022\tvalid_1's binary_logloss: 0.137877\n",
      "[76]\ttraining's auc: 0.937421\ttraining's binary_logloss: 0.101266\tvalid_1's auc: 0.825766\tvalid_1's binary_logloss: 0.137942\n",
      "[77]\ttraining's auc: 0.937505\ttraining's binary_logloss: 0.101196\tvalid_1's auc: 0.825672\tvalid_1's binary_logloss: 0.137978\n",
      "[78]\ttraining's auc: 0.937738\ttraining's binary_logloss: 0.101023\tvalid_1's auc: 0.825615\tvalid_1's binary_logloss: 0.138025\n",
      "[79]\ttraining's auc: 0.938035\ttraining's binary_logloss: 0.100836\tvalid_1's auc: 0.82573\tvalid_1's binary_logloss: 0.138031\n",
      "[80]\ttraining's auc: 0.93885\ttraining's binary_logloss: 0.100431\tvalid_1's auc: 0.825659\tvalid_1's binary_logloss: 0.138063\n",
      "[81]\ttraining's auc: 0.939109\ttraining's binary_logloss: 0.100271\tvalid_1's auc: 0.825431\tvalid_1's binary_logloss: 0.138135\n",
      "[82]\ttraining's auc: 0.939132\ttraining's binary_logloss: 0.100221\tvalid_1's auc: 0.825355\tvalid_1's binary_logloss: 0.138151\n",
      "[83]\ttraining's auc: 0.93919\ttraining's binary_logloss: 0.100116\tvalid_1's auc: 0.825277\tvalid_1's binary_logloss: 0.138183\n",
      "[84]\ttraining's auc: 0.939272\ttraining's binary_logloss: 0.100029\tvalid_1's auc: 0.825291\tvalid_1's binary_logloss: 0.13819\n",
      "[85]\ttraining's auc: 0.939394\ttraining's binary_logloss: 0.0999262\tvalid_1's auc: 0.825067\tvalid_1's binary_logloss: 0.138252\n",
      "[86]\ttraining's auc: 0.93947\ttraining's binary_logloss: 0.0998232\tvalid_1's auc: 0.824786\tvalid_1's binary_logloss: 0.138334\n",
      "[87]\ttraining's auc: 0.939512\ttraining's binary_logloss: 0.0997598\tvalid_1's auc: 0.824706\tvalid_1's binary_logloss: 0.138372\n",
      "[88]\ttraining's auc: 0.940349\ttraining's binary_logloss: 0.0993026\tvalid_1's auc: 0.825002\tvalid_1's binary_logloss: 0.13835\n",
      "[89]\ttraining's auc: 0.941085\ttraining's binary_logloss: 0.0988475\tvalid_1's auc: 0.824938\tvalid_1's binary_logloss: 0.138416\n",
      "[90]\ttraining's auc: 0.941213\ttraining's binary_logloss: 0.0987335\tvalid_1's auc: 0.824737\tvalid_1's binary_logloss: 0.138473\n",
      "[91]\ttraining's auc: 0.941573\ttraining's binary_logloss: 0.0985094\tvalid_1's auc: 0.824677\tvalid_1's binary_logloss: 0.138504\n",
      "[92]\ttraining's auc: 0.942014\ttraining's binary_logloss: 0.0981523\tvalid_1's auc: 0.824238\tvalid_1's binary_logloss: 0.138643\n",
      "[93]\ttraining's auc: 0.942139\ttraining's binary_logloss: 0.0980729\tvalid_1's auc: 0.82426\tvalid_1's binary_logloss: 0.138649\n",
      "[94]\ttraining's auc: 0.942336\ttraining's binary_logloss: 0.0979447\tvalid_1's auc: 0.824305\tvalid_1's binary_logloss: 0.138638\n",
      "[95]\ttraining's auc: 0.942591\ttraining's binary_logloss: 0.0978008\tvalid_1's auc: 0.824176\tvalid_1's binary_logloss: 0.138694\n",
      "[96]\ttraining's auc: 0.942947\ttraining's binary_logloss: 0.0975576\tvalid_1's auc: 0.824182\tvalid_1's binary_logloss: 0.138756\n",
      "[97]\ttraining's auc: 0.943035\ttraining's binary_logloss: 0.0974568\tvalid_1's auc: 0.824088\tvalid_1's binary_logloss: 0.138797\n",
      "[98]\ttraining's auc: 0.943879\ttraining's binary_logloss: 0.0969581\tvalid_1's auc: 0.823909\tvalid_1's binary_logloss: 0.138893\n",
      "[99]\ttraining's auc: 0.943949\ttraining's binary_logloss: 0.0968715\tvalid_1's auc: 0.823679\tvalid_1's binary_logloss: 0.138946\n",
      "[100]\ttraining's auc: 0.944032\ttraining's binary_logloss: 0.0967801\tvalid_1's auc: 0.8234\tvalid_1's binary_logloss: 0.139036\n"
     ]
    },
    {
     "data": {
      "text/html": [
       "<style>#sk-container-id-3 {color: black;background-color: white;}#sk-container-id-3 pre{padding: 0;}#sk-container-id-3 div.sk-toggleable {background-color: white;}#sk-container-id-3 label.sk-toggleable__label {cursor: pointer;display: block;width: 100%;margin-bottom: 0;padding: 0.3em;box-sizing: border-box;text-align: center;}#sk-container-id-3 label.sk-toggleable__label-arrow:before {content: \"▸\";float: left;margin-right: 0.25em;color: #696969;}#sk-container-id-3 label.sk-toggleable__label-arrow:hover:before {color: black;}#sk-container-id-3 div.sk-estimator:hover label.sk-toggleable__label-arrow:before {color: black;}#sk-container-id-3 div.sk-toggleable__content {max-height: 0;max-width: 0;overflow: hidden;text-align: left;background-color: #f0f8ff;}#sk-container-id-3 div.sk-toggleable__content pre {margin: 0.2em;color: black;border-radius: 0.25em;background-color: #f0f8ff;}#sk-container-id-3 input.sk-toggleable__control:checked~div.sk-toggleable__content {max-height: 200px;max-width: 100%;overflow: auto;}#sk-container-id-3 input.sk-toggleable__control:checked~label.sk-toggleable__label-arrow:before {content: \"▾\";}#sk-container-id-3 div.sk-estimator input.sk-toggleable__control:checked~label.sk-toggleable__label {background-color: #d4ebff;}#sk-container-id-3 div.sk-label input.sk-toggleable__control:checked~label.sk-toggleable__label {background-color: #d4ebff;}#sk-container-id-3 input.sk-hidden--visually {border: 0;clip: rect(1px 1px 1px 1px);clip: rect(1px, 1px, 1px, 1px);height: 1px;margin: -1px;overflow: hidden;padding: 0;position: absolute;width: 1px;}#sk-container-id-3 div.sk-estimator {font-family: monospace;background-color: #f0f8ff;border: 1px dotted black;border-radius: 0.25em;box-sizing: border-box;margin-bottom: 0.5em;}#sk-container-id-3 div.sk-estimator:hover {background-color: #d4ebff;}#sk-container-id-3 div.sk-parallel-item::after {content: \"\";width: 100%;border-bottom: 1px solid gray;flex-grow: 1;}#sk-container-id-3 div.sk-label:hover label.sk-toggleable__label {background-color: #d4ebff;}#sk-container-id-3 div.sk-serial::before {content: \"\";position: absolute;border-left: 1px solid gray;box-sizing: border-box;top: 0;bottom: 0;left: 50%;z-index: 0;}#sk-container-id-3 div.sk-serial {display: flex;flex-direction: column;align-items: center;background-color: white;padding-right: 0.2em;padding-left: 0.2em;position: relative;}#sk-container-id-3 div.sk-item {position: relative;z-index: 1;}#sk-container-id-3 div.sk-parallel {display: flex;align-items: stretch;justify-content: center;background-color: white;position: relative;}#sk-container-id-3 div.sk-item::before, #sk-container-id-3 div.sk-parallel-item::before {content: \"\";position: absolute;border-left: 1px solid gray;box-sizing: border-box;top: 0;bottom: 0;left: 50%;z-index: -1;}#sk-container-id-3 div.sk-parallel-item {display: flex;flex-direction: column;z-index: 1;position: relative;background-color: white;}#sk-container-id-3 div.sk-parallel-item:first-child::after {align-self: flex-end;width: 50%;}#sk-container-id-3 div.sk-parallel-item:last-child::after {align-self: flex-start;width: 50%;}#sk-container-id-3 div.sk-parallel-item:only-child::after {width: 0;}#sk-container-id-3 div.sk-dashed-wrapped {border: 1px dashed gray;margin: 0 0.4em 0.5em 0.4em;box-sizing: border-box;padding-bottom: 0.4em;background-color: white;}#sk-container-id-3 div.sk-label label {font-family: monospace;font-weight: bold;display: inline-block;line-height: 1.2em;}#sk-container-id-3 div.sk-label-container {text-align: center;}#sk-container-id-3 div.sk-container {/* jupyter's `normalize.less` sets `[hidden] { display: none; }` but bootstrap.min.css set `[hidden] { display: none !important; }` so we also need the `!important` here to be able to override the default hidden behavior on the sphinx rendered scikit-learn.org. See: https://github.com/scikit-learn/scikit-learn/issues/21755 */display: inline-block !important;position: relative;}#sk-container-id-3 div.sk-text-repr-fallback {display: none;}</style><div id=\"sk-container-id-3\" class=\"sk-top-container\"><div class=\"sk-text-repr-fallback\"><pre>LGBMClassifier(max_depth=6, min_samples_splite=8, random_state=0)</pre><b>In a Jupyter environment, please rerun this cell to show the HTML representation or trust the notebook. <br />On GitHub, the HTML representation is unable to render, please try loading this page with nbviewer.org.</b></div><div class=\"sk-container\" hidden><div class=\"sk-item\"><div class=\"sk-estimator sk-toggleable\"><input class=\"sk-toggleable__control sk-hidden--visually\" id=\"sk-estimator-id-3\" type=\"checkbox\" checked><label for=\"sk-estimator-id-3\" class=\"sk-toggleable__label sk-toggleable__label-arrow\">LGBMClassifier</label><div class=\"sk-toggleable__content\"><pre>LGBMClassifier(max_depth=6, min_samples_splite=8, random_state=0)</pre></div></div></div></div></div>"
      ],
      "text/plain": [
       "LGBMClassifier(max_depth=6, min_samples_splite=8, random_state=0)"
      ]
     },
     "execution_count": 23,
     "metadata": {},
     "output_type": "execute_result"
    }
   ],
   "source": [
    "lgbm = LGBMClassifier(max_depth=6,\n",
    "                      min_samples_splite=8,\n",
    "                      n_estimators=100,\n",
    "                      random_state=0)\n",
    "lgbm.fit(x_train,\n",
    "         y_train,\n",
    "         early_stopping_rounds=100,\n",
    "         eval_metric='auc',\n",
    "         eval_set=[(x_train, y_train), (x_test, y_test)],\n",
    "         verbose=True)"
   ]
  },
  {
   "cell_type": "code",
   "execution_count": null,
   "metadata": {},
   "outputs": [],
   "source": []
  },
  {
   "cell_type": "code",
   "execution_count": null,
   "metadata": {},
   "outputs": [],
   "source": []
  }
 ],
 "metadata": {
  "kernelspec": {
   "display_name": "base",
   "language": "python",
   "name": "python3"
  },
  "language_info": {
   "codemirror_mode": {
    "name": "ipython",
    "version": 3
   },
   "file_extension": ".py",
   "mimetype": "text/x-python",
   "name": "python",
   "nbconvert_exporter": "python",
   "pygments_lexer": "ipython3",
   "version": "3.10.9"
  },
  "orig_nbformat": 4
 },
 "nbformat": 4,
 "nbformat_minor": 2
}
